{
 "cells": [
  {
   "attachments": {},
   "cell_type": "markdown",
   "metadata": {},
   "source": [
    "## 세션 개요\n",
    "\n",
    "+ 이미 알 것이라고 가정한 내용\n",
    "  + 기본적인 논리 연산자(`==, !=, >, <,and, or, not`)\n",
    "  + 흐름 제어(반복문, 조건문) 기초개념\n",
    "  + 함수 기초개념\n",
    "  + 파일 입출력\n",
    "  + 모듈 임포트\n",
    "  + 기본적인 입력/출력(input, print)\n",
    "\n",
    "\n",
    "<br>\n",
    "\n",
    "+ 다룰 내용\n",
    "  + 파이썬 기초 개념 세우기\n",
    "  + 기본 데이터 타입들 빠르게 복습하기\n",
    "  + 중요 개념들과 주요 함수들 빠르게 복습하기\n",
    "    + 함수 포인트: 여러 값을 반환하기, 지역변수/전역변수 개념, 람다함수(익명함수)\n",
    "    + 리스트 내장과 제너레이터 개념\n",
    "    + 주요 함수들: range함수, enumerate함수, zip함수, \n",
    "\n",
    "\n",
    "<br>\n",
    "\n",
    "+ 다루지 못한 내용\n",
    "  + 2.3.2. 중 몇몇 스칼라 타입들(바이트, NoneType, datetime)\n",
    "  + 3.2.5. 커링\n",
    "  + 3.2.6. 제너레이터\n",
    "  + 3.2.7. 예외처리"
   ]
  },
  {
   "attachments": {},
   "cell_type": "markdown",
   "metadata": {},
   "source": [
    "## ch2. 파이썬 기초개념 세우기: 객체와 변수를 중심으로\n",
    "+ 들여쓰기. 띄어쓰기 4칸. #은 주석.\n",
    "+ 파이썬의 모든 것은 객체다!\n",
    "  + `123`(정수형)나 `'abc'`(문자열)같은 기본 자료형은 물론, 함수(`print`)들 역시 객체로 취급한다.\n",
    "  + 객체란 상자와 비슷하다.\n",
    "    + 우선, 상자의 모양이 다양하듯, 객체의 타입 역시 다양하다. (`type()`함수를 통해 확인할 수 있다.)\n",
    "    + 상자를 열면 그 안에 여러 물건들이 들어있듯, 객체를 열어보면(`dir()`함수) 그 안에 여러 값, 속성들과 기능(메소드)들이 들어있다. \n",
    "  + 객체가 상자라면, 변수는 상자에 붙이는 포스트잇이다!\n",
    "    + 포스트잇이 특징이 없듯, 변수 역시 딱히 특징이 없으며 모든 특징들(타입, 값 등)은 참조하는 객체에 의해 정의된다!\n",
    "    + 포스트잇에 포스트잇을 붙일 수 없듯, 변수는 항상 객체를 참조한다!"
   ]
  },
  {
   "cell_type": "code",
   "execution_count": null,
   "metadata": {},
   "outputs": [],
   "source": [
    "print(type('123'))"
   ]
  },
  {
   "cell_type": "code",
   "execution_count": null,
   "metadata": {},
   "outputs": [],
   "source": [
    "dir('123')"
   ]
  },
  {
   "cell_type": "code",
   "execution_count": null,
   "metadata": {},
   "outputs": [],
   "source": [
    "dir(print)"
   ]
  },
  {
   "cell_type": "code",
   "execution_count": null,
   "metadata": {},
   "outputs": [],
   "source": [
    "a = '123'\n",
    "b = a\n",
    "\n",
    "print(a is b)       ## ==는 객체의 값만 비교하지만, is는 객체의 값 뿐만 아니라 id값까지 비교한다. 즉, 객체 자체를 비교한다!\n",
    "print(id(a), id(b))"
   ]
  },
  {
   "cell_type": "code",
   "execution_count": null,
   "metadata": {},
   "outputs": [],
   "source": [
    "a = [1,2,3]\n",
    "b = a\n",
    "\n",
    "print(a is b)\n",
    "print(id(a), id(b))"
   ]
  },
  {
   "cell_type": "code",
   "execution_count": null,
   "metadata": {},
   "outputs": [],
   "source": [
    "a.append(1)\n",
    "\n",
    "print(a, b)"
   ]
  },
  {
   "cell_type": "code",
   "execution_count": null,
   "metadata": {},
   "outputs": [],
   "source": [
    "a = [1,2,3]\n",
    "print(type(a))\n",
    "\n",
    "a = '456'\n",
    "print(type(a))"
   ]
  },
  {
   "attachments": {},
   "cell_type": "markdown",
   "metadata": {},
   "source": [
    "###### 참고. 문자열과 정수형에 대한 캐싱\n",
    "\n",
    "+ 원칙적으로 파이썬은, 새로운 객체를 생성하면, 설사 값이 같더라도, 별개의 객체를 생성해야 맞다.\n",
    "+ 그러나 작은 숫자나 문자열의 경우, 파이썬은 매번 새로운 객체를 만들지 않고, 생성된 객체를 재활용하는 식으로 메모리를 절약한다."
   ]
  },
  {
   "cell_type": "code",
   "execution_count": null,
   "metadata": {},
   "outputs": [],
   "source": [
    "a = [1,2,3]\n",
    "b = [1,2,3]\n",
    "\n",
    "print(a == b)\n",
    "print(a is b)"
   ]
  },
  {
   "cell_type": "code",
   "execution_count": null,
   "metadata": {},
   "outputs": [],
   "source": [
    "a = '생각에 관한 생각. 하이켈하임 로마사. 도덕적 인간과 비도덕적 사회. 밑바닥부터 시작하는 딥러닝'\n",
    "b = '생각에 관한 생각. 하이켈하임 로마사. 도덕적 인간과 비도덕적 사회. 밑바닥부터 시작하는 딥러닝'\n",
    "\n",
    "print(a == b)\n",
    "print(a is b)"
   ]
  },
  {
   "cell_type": "code",
   "execution_count": null,
   "metadata": {},
   "outputs": [],
   "source": [
    "a = '123'\n",
    "b = '123'\n",
    "\n",
    "print(a == b)\n",
    "print(a is b)"
   ]
  },
  {
   "cell_type": "code",
   "execution_count": null,
   "metadata": {},
   "outputs": [],
   "source": [
    "a = 123456789\n",
    "b = 123456789\n",
    "\n",
    "print(a == b)\n",
    "print(a is b)"
   ]
  },
  {
   "cell_type": "code",
   "execution_count": null,
   "metadata": {},
   "outputs": [],
   "source": [
    "a = 123\n",
    "b = 123\n",
    "\n",
    "print(a == b)\n",
    "print(a is b)"
   ]
  },
  {
   "attachments": {},
   "cell_type": "markdown",
   "metadata": {},
   "source": [
    "## ch2~3. 기본 데이터 타입들 빠르게 복습하기\n",
    "\n",
    "+ 파이썬의 기본 데이터 타입들은 반복과 순서라는 두 가지 기준을 가지고 구분할 수 있다.\n",
    "\n",
    "<br>\n",
    "\n",
    "+ 1.반복불가\n",
    "  + ~~반복불가-순서있음~~\n",
    "  + 1-1.반복불가-순서없음(스칼라형, atomic 데이터타입)\n",
    "    + <u>숫자(int, float...), 불값(True, false), None</u> 등...\n",
    "+ 2.반복가능\n",
    "  + 2-1.반복가능-순서없음\n",
    "    + 1)집합\n",
    "    + 2)사전\n",
    "  + 2-2.반복가능-순서있음\n",
    "    + 1)<u>문자열</u>\n",
    "    + 2)리스트\n",
    "    + 3)<u>튜플</u>\n",
    "\n",
    "<br>\n",
    "\n",
    "+ 밑줄친 스칼라형 및 문자열, 튜플은 <u>immutable(=hashable)</u>, 즉 (객체가 가지고 있는 값이 )불변하는 객체다.\n",
    "+ 그 외의 대부분의 데이터 타입들은 mutable, 즉 (객체가 가지고 있는 값이 )변할 수 있는 가변 객체다.\n"
   ]
  },
  {
   "attachments": {},
   "cell_type": "markdown",
   "metadata": {},
   "source": [
    "### 1.반복불가\n",
    "\n",
    "\\####~~1-2.반복불가-순서있음~~\n",
    "+ 반복이 불가한데 순서가 있다는 것은 논리적으로 말이 안된다.\n",
    "\n",
    "#### 1-1.반복불가-순서없음: 숫자, 불값, None... "
   ]
  },
  {
   "cell_type": "code",
   "execution_count": null,
   "metadata": {},
   "outputs": [],
   "source": [
    "print(\n",
    "    1+1, \n",
    "    2-1, \n",
    "    1*3,\n",
    "    3/2,\n",
    "    sep = '\\n'\n",
    ")"
   ]
  },
  {
   "cell_type": "code",
   "execution_count": null,
   "metadata": {},
   "outputs": [],
   "source": [
    "'1' + 1"
   ]
  },
  {
   "cell_type": "code",
   "execution_count": null,
   "metadata": {},
   "outputs": [],
   "source": [
    "print(\n",
    "    6 / 4,\n",
    "    6 // 4,\n",
    "    6 % 4,\n",
    "    6 * 4,\n",
    "    6 ** 2,\n",
    "    sep = '\\n'\n",
    ")"
   ]
  },
  {
   "cell_type": "code",
   "execution_count": null,
   "metadata": {},
   "outputs": [],
   "source": [
    "## True는 1, False는 0으로 계산된다.\n",
    "print(\n",
    "    True + True,\n",
    "    True == 1,\n",
    "    False + False,\n",
    "    False == 0,\n",
    "    sep = '\\n',\n",
    ")"
   ]
  },
  {
   "cell_type": "code",
   "execution_count": null,
   "metadata": {},
   "outputs": [],
   "source": [
    "print(\n",
    "    not True,\n",
    "    not False,\n",
    "    not 0,\n",
    "    not 1,\n",
    "    not 2,\n",
    "    not [123, 456],\n",
    "    sep = '\\n'\n",
    ")"
   ]
  },
  {
   "cell_type": "code",
   "execution_count": null,
   "metadata": {},
   "outputs": [],
   "source": [
    "## 확장 할당 연산자\n",
    "a = 0\n",
    "a += 1\n",
    "print(a)\n",
    "\n",
    "a -= 10\n",
    "print(a)\n",
    "\n",
    "a /= 3\n",
    "print(a)\n",
    "\n",
    "a *= 3\n",
    "print(a)\n",
    "\n",
    "a //= 2\n",
    "print(a)\n",
    "\n",
    "a **=2\n",
    "print(a)"
   ]
  },
  {
   "attachments": {},
   "cell_type": "markdown",
   "metadata": {},
   "source": [
    "##### 복습문제 1\n",
    "+ 사용자의 입력을 input으로 받아,\n",
    "  + 5로 나눈 나머지가 0이면, 아무것도 출력하지 않고,\n",
    "  + 5로 나눈 나머지가 0이 아니면, 5로 나눈 몫을 출력하는\n",
    "+ 코드를 작성하시오."
   ]
  },
  {
   "cell_type": "code",
   "execution_count": null,
   "metadata": {},
   "outputs": [],
   "source": [
    "## 한번의 실행마다 하나의 입력값이 들어가고, 하나의 출력값이 나온다.\n",
    "## 입력값: 12, 20, 17. \n",
    "\n",
    "\n",
    "\n",
    "## 출력값: 2, 출력값 없음, 3"
   ]
  },
  {
   "attachments": {},
   "cell_type": "markdown",
   "metadata": {},
   "source": [
    "### 2.반복가능: 집합, 사전, 문자열, 리스트, 튜플\n",
    "+ iterable 혹은 container.\n",
    "  + 해당 객체가 다른 객체들을 담고 있기 때문에, 그 안에 담겨진 객체들을 꺼내거나, 다른 객체들을 또 넣을 수 있다.\n",
    "  + 중첩해서 리스트 안에 리스트를 넣거나, 튜플 안에 리스트를 넣는 것도 당연히 가능하다.\n",
    "+ 공통적으로 `in`, `len()`, `sum()`, `sorted()`함수를 사용할 수 있다."
   ]
  },
  {
   "cell_type": "code",
   "execution_count": null,
   "metadata": {},
   "outputs": [],
   "source": [
    "print(\n",
    "    1 in {1,2,3},\n",
    "    1 in {1:10, 2:20, 3:30},\n",
    "    '1' in '123',\n",
    "    1 in [1,2,3],\n",
    "    1 in (1,2,3,),\n",
    "    sep = '\\n'\n",
    ")"
   ]
  },
  {
   "cell_type": "code",
   "execution_count": null,
   "metadata": {},
   "outputs": [],
   "source": [
    "print(\n",
    "    len({1,2,3}),\n",
    "    len({1:10, 2:20, 3:30}),\n",
    "    len('123'),\n",
    "    len([1,2,3]),\n",
    "    len((1,2,3)),\n",
    "    sep = '\\n'\n",
    ")"
   ]
  },
  {
   "cell_type": "code",
   "execution_count": null,
   "metadata": {},
   "outputs": [],
   "source": [
    "print(\n",
    "    sum({1,2,3}),\n",
    "    sum({1:10, 2:20, 3:30}),\n",
    "    sum([1,2,3]),\n",
    "    sum((1,2,3)),\n",
    "    sep = '\\n'\n",
    ")"
   ]
  },
  {
   "cell_type": "code",
   "execution_count": null,
   "metadata": {},
   "outputs": [],
   "source": [
    "print(\n",
    "    sorted({3,2,1}),\n",
    "    sorted({3:30, 2:20, 1:10}),\n",
    "    sorted([3,2,1]),\n",
    "    sorted((3,2,1)),\n",
    "    sep = '\\n'\n",
    ")\n",
    "## !! 결과값이 리스트라는 사실을 주의하자!"
   ]
  },
  {
   "attachments": {},
   "cell_type": "markdown",
   "metadata": {},
   "source": [
    "### 2-1.반복가능-순서없음: 집합, 사전\n",
    "+ **순서가 없다는 말은, 곧 중복이 허용되지 않는다는 말과 같다!**\n",
    "+ 공통적으로 사용할 수 있는 함수 없음!"
   ]
  },
  {
   "attachments": {},
   "cell_type": "markdown",
   "metadata": {},
   "source": [
    "#### 1)집합\n",
    "+ 사칙 연산 중 유일하게 `- (차집합)`만 가능하다!\n",
    "+ 집합 연산자 (`|, &, -, ^`)\n",
    "  + 확장할당 연산자(`|=, &=, -=, ^=`)"
   ]
  },
  {
   "cell_type": "code",
   "execution_count": null,
   "metadata": {},
   "outputs": [],
   "source": [
    "a = set()\n",
    "d = {}\n",
    "\n",
    "print(type(a), type(d))"
   ]
  },
  {
   "cell_type": "code",
   "execution_count": null,
   "metadata": {},
   "outputs": [],
   "source": [
    "a = {1,2,3}\n",
    "b = {3,4,5}\n",
    "\n",
    "print(\n",
    "    a | b,\n",
    "    a & b,\n",
    "    a - b,\n",
    "    a ^ b,\n",
    "    sep = '\\n'\n",
    ")"
   ]
  },
  {
   "cell_type": "code",
   "execution_count": null,
   "metadata": {},
   "outputs": [],
   "source": [
    "## 집합에 요소 더하고, 빼고\n",
    "a = {1,2,3}\n",
    "\n",
    "b = a.add(4)\n",
    "print(a)\n",
    "print(b)\n",
    "\n",
    "b = a.remove(1)\n",
    "print(a)\n",
    "print(b)\n",
    "\n",
    "b = a.discard(10)\n",
    "print(a)\n",
    "print(b)\n",
    "\n",
    "b = a.pop()\n",
    "print(a)\n",
    "print(b)"
   ]
  },
  {
   "attachments": {},
   "cell_type": "markdown",
   "metadata": {},
   "source": [
    "###### 참고: `|, |=, add, update` 차이"
   ]
  },
  {
   "cell_type": "code",
   "execution_count": null,
   "metadata": {},
   "outputs": [],
   "source": [
    "a = {1,2,3}\n",
    "\n",
    "a | {5}\n",
    "print(a)\n",
    "\n",
    "a |= {5,6}\n",
    "print(a)\n",
    "\n",
    "a.add(7)\n",
    "print(a)\n",
    "\n",
    "a.update({8,9,10})   ## 인자로 iteralbe 데이터타입을 취한다!\n",
    "print(a)\n",
    "\n",
    "\n",
    "a.update([100,200,300])\n",
    "print(a)\n"
   ]
  },
  {
   "attachments": {},
   "cell_type": "markdown",
   "metadata": {},
   "source": [
    "##### 복습문제 2\n",
    "+ 주어진 문자열의 총 개수와 고유한 문자들의 개수간의 차를 구하시오."
   ]
  },
  {
   "cell_type": "code",
   "execution_count": null,
   "metadata": {},
   "outputs": [],
   "source": [
    "s = 'qesdwfrvcxzaasdqeetts'\n",
    "\n",
    "\n",
    "## 출력값: 8"
   ]
  },
  {
   "attachments": {},
   "cell_type": "markdown",
   "metadata": {},
   "source": [
    "#### 2)사전\n",
    "+ key와 value로 구성되어 있으며, key값을 통해 value값을 호출할 수 있다.\n",
    "  + key는 중복불가하며, \n",
    "  + immutalbe한 객체들만 key값이 될 수 있다."
   ]
  },
  {
   "cell_type": "code",
   "execution_count": null,
   "metadata": {},
   "outputs": [],
   "source": [
    "a = {}\n",
    "d = dict()\n",
    "\n",
    "print(type(a), type(d))"
   ]
  },
  {
   "cell_type": "code",
   "execution_count": null,
   "metadata": {},
   "outputs": [],
   "source": [
    "a = {}\n",
    "\n",
    "a[[1,2,3]] = '123'"
   ]
  },
  {
   "cell_type": "code",
   "execution_count": null,
   "metadata": {},
   "outputs": [],
   "source": [
    "a = {}\n",
    "a[(1,2,3)] = '123'\n",
    "\n",
    "print(a)"
   ]
  },
  {
   "cell_type": "code",
   "execution_count": null,
   "metadata": {},
   "outputs": [],
   "source": [
    "a = {'1':10, '2':20, '3':30}\n",
    "\n",
    "print(a.keys())\n",
    "print(a.values())\n",
    "print(a.items())"
   ]
  },
  {
   "cell_type": "code",
   "execution_count": null,
   "metadata": {},
   "outputs": [],
   "source": [
    "## 순서가 없다는 말은, 중복을 허용하지 않는다는 말이다!\n",
    "a = {}\n",
    "\n",
    "a['1'] = 100\n",
    "print(a)\n",
    "\n",
    "a['1'] = 200\n",
    "print(a)"
   ]
  },
  {
   "cell_type": "code",
   "execution_count": null,
   "metadata": {},
   "outputs": [],
   "source": [
    "a = {'1':10, '2':20, '3':30}\n",
    "\n",
    "\n",
    "a.update({4:'40', 5:'50'})\n",
    "print(a)\n",
    "\n",
    "a.update([(100,'100'), (200, '200')])\n",
    "print(a)"
   ]
  },
  {
   "cell_type": "code",
   "execution_count": null,
   "metadata": {},
   "outputs": [],
   "source": [
    "a = {'1':10, '2':20, '3':30}\n",
    "\n",
    "del a['1']\n",
    "print(a)"
   ]
  },
  {
   "attachments": {},
   "cell_type": "markdown",
   "metadata": {},
   "source": [
    "##### 복습문제 3\n",
    "+ 주어진 문자열을 철자 단위로 나누어, 문자를 key로, 빈도수를 value로 가지는 사전을 생성하시오."
   ]
  },
  {
   "cell_type": "code",
   "execution_count": null,
   "metadata": {},
   "outputs": [],
   "source": [
    "s = 'abcaaabbccadede'\n",
    "\n",
    "\n",
    "\n",
    "## 출력값: {'a': 5, 'b': 3, 'c': 3, 'd': 2, 'e': 2}"
   ]
  },
  {
   "attachments": {},
   "cell_type": "markdown",
   "metadata": {},
   "source": [
    "### 2-2.반복가능-순서있음: 문자열, 리스트, 튜플\n",
    "+ 인덱싱, 슬라이싱, sequence.index(), sequence.count()"
   ]
  },
  {
   "cell_type": "code",
   "execution_count": null,
   "metadata": {},
   "outputs": [],
   "source": [
    "s = '01234'\n",
    "l = [0,1,2,3,4]\n",
    "t = (0,1,2,3,4)\n",
    "\n",
    "print(\n",
    "    s[1],\n",
    "    l[1],\n",
    "    t[1],\n",
    "    s[-1],\n",
    "    l[-1],\n",
    "    t[-1],\n",
    "    sep = '\\n'\n",
    ")"
   ]
  },
  {
   "cell_type": "code",
   "execution_count": null,
   "metadata": {},
   "outputs": [],
   "source": [
    "s = '01234'\n",
    "l = [0,1,2,3,4]\n",
    "t = (0,1,2,3,4)\n",
    "\n",
    "print(\n",
    "    s[1:2],\n",
    "    l[1:2],\n",
    "    t[1:2],\n",
    "    s[:2],\n",
    "    l[:2],\n",
    "    t[:2],\n",
    "    s[-1:],\n",
    "    l[-1:],\n",
    "    t[-1:],\n",
    "    sep = '\\n'\n",
    ")"
   ]
  },
  {
   "cell_type": "code",
   "execution_count": null,
   "metadata": {},
   "outputs": [],
   "source": [
    "s = 'abcde'\n",
    "l = ['a', 'b', 'c', 'd', 'e']\n",
    "t = ('a', 'b', 'c', 'd', 'e')\n",
    "\n",
    "print(\n",
    "    s.index('c'),\n",
    "    l.index('c'),\n",
    "    t.index('c'),\n",
    "    sep='\\n'\n",
    ")"
   ]
  },
  {
   "cell_type": "code",
   "execution_count": null,
   "metadata": {},
   "outputs": [],
   "source": [
    "s = \"123111\"\n",
    "l = [1,2,3,1,1,1]\n",
    "t = (1,2,3,1,1,1)\n",
    "\n",
    "print(\n",
    "    s.count('1'),\n",
    "    l.count(1),\n",
    "    t.count(1),\n",
    "    sep = '\\n'\n",
    ")\n"
   ]
  },
  {
   "attachments": {},
   "cell_type": "markdown",
   "metadata": {},
   "source": [
    "#### 1)문자열\n",
    "+ 문자열은 immutable하다.(값을 변경할 수 없다.) 따라서 값을 변경하고자 할 때에는, 새로운 변수에 할당해야 한다.\n",
    "+ `더하기, 곱하기`, ~~빼기, 나누기~~\n",
    "+ `str.strip()`, `str.lstrip()`, `str.rstrip()`\n",
    "+ `str.replace()`\n",
    "+ `str.upper()`, `str.lower()`, `str.title()`, `str.capitalize()`...\n",
    "+ 불값을 반환하는 메소드들\n",
    "  + `str.startswith()`, `str.endswith()`\n",
    "  + `str.isupper()`, `str.islower()`, `str.istitle()`...\n",
    "  + `str.isalnum()`, `str.isalpha()`, `str.isnumeric()`...\n",
    "+ 문자열 형변환\n",
    "  + `str.split()` -> list\n",
    "  + `str.join(iterable)`->str"
   ]
  },
  {
   "cell_type": "code",
   "execution_count": null,
   "metadata": {},
   "outputs": [],
   "source": [
    "## 사칙연산. 더하기 곱하기만 된다.\n",
    "print(\n",
    "    'abc'+'def',\n",
    "    'abc'*2,\n",
    "    sep = '\\n'\n",
    ")"
   ]
  },
  {
   "cell_type": "code",
   "execution_count": null,
   "metadata": {},
   "outputs": [],
   "source": [
    "s = ' \\n\\t  a b c  \\n\\t '\n",
    "b = s.strip()   ## immutable한 객체이므로, 반드시 새로 할당해야 한다.\n",
    "\n",
    "print(b)\n",
    "s"
   ]
  },
  {
   "cell_type": "code",
   "execution_count": null,
   "metadata": {},
   "outputs": [],
   "source": [
    "s = 'xyxabcxyx'\n",
    "\n",
    "print(\n",
    "    s.strip('xy'),\n",
    "    s.lstrip('xy'),\n",
    "    s.rstrip('xy'),\n",
    "    sep = '\\n'\n",
    ")"
   ]
  },
  {
   "cell_type": "code",
   "execution_count": null,
   "metadata": {},
   "outputs": [],
   "source": [
    "s = \"Oh love, I love you.\"\n",
    "\n",
    "print(\n",
    "    s.replace('LOVE'.lower(), 'hate'.upper()),\n",
    "    s.title(),\n",
    "    s.capitalize(),\n",
    "    sep = '\\n'\n",
    ")"
   ]
  },
  {
   "cell_type": "code",
   "execution_count": null,
   "metadata": {},
   "outputs": [],
   "source": [
    "s = 'abc 123 abc'\n",
    "\n",
    "print(\n",
    "    s.split(),\n",
    "    s.split('123'),\n",
    "    s.split('abc'),\n",
    "    s.split('abc', 1),\n",
    "    s.rsplit('abc',1),\n",
    "    sep = '\\n'\n",
    ")"
   ]
  },
  {
   "cell_type": "code",
   "execution_count": null,
   "metadata": {},
   "outputs": [],
   "source": [
    "iterable = ['You', 'He', 'She']\n",
    "\n",
    "' and '.join(iterable) + ' lived happily'"
   ]
  },
  {
   "attachments": {},
   "cell_type": "markdown",
   "metadata": {},
   "source": [
    "##### 복습문제 4\n",
    "+ 다음 문장을 주어진 출력값으로 바꾸는 코드를 작성하시오.\n",
    "  + 단, 함수/메소드 및 연산자는 한번씩만 사용하시오. (예를 들어, replace 메소드를 두 번 사용할 수 없음)"
   ]
  },
  {
   "cell_type": "code",
   "execution_count": null,
   "metadata": {},
   "outputs": [],
   "source": [
    "given = '   @!?!I wAiTed for my father.!@!!  '\n",
    "\n",
    "\n",
    "\n",
    "print(answer)\n",
    "## 출력값: I waited for her mother. (좌우 공백없음)"
   ]
  },
  {
   "attachments": {},
   "cell_type": "markdown",
   "metadata": {},
   "source": [
    "#### 2)리스트\n",
    "+ 더하기, 곱하기.\n",
    "+ 추가하기\n",
    "  + `list.append(one_value) -> None`\n",
    "  + `list.extend(iteralbe) -> None`\n",
    "  + `list.insert(index, value) -> None`\n",
    "  + `list += another_list`\n",
    "+ 제거하기\n",
    "  + `list.pop(index) -> value`\n",
    "  + `list.remove(value) -> None`\n",
    "  + `list.clear()`\n",
    "+ 정렬하기, 뒤집기\n",
    "  + `list.sort()`\n",
    "  + `list.reverse()`"
   ]
  },
  {
   "cell_type": "code",
   "execution_count": null,
   "metadata": {},
   "outputs": [],
   "source": [
    "l = [1,2]\n",
    "\n",
    "print(l+l,\n",
    "      l*3,\n",
    "      sep = '\\n')"
   ]
  },
  {
   "cell_type": "code",
   "execution_count": null,
   "metadata": {},
   "outputs": [],
   "source": [
    "l = []\n",
    "\n",
    "b = l.append(0)\n",
    "print(b)\n",
    "print(l)"
   ]
  },
  {
   "cell_type": "code",
   "execution_count": null,
   "metadata": {},
   "outputs": [],
   "source": [
    "l.extend({4,5,6})\n",
    "print(l)\n",
    "\n",
    "l.insert(3, 100)\n",
    "print(l)"
   ]
  },
  {
   "cell_type": "code",
   "execution_count": null,
   "metadata": {},
   "outputs": [],
   "source": [
    "b = l.pop(-1)\n",
    "print(b)\n",
    "print(l)\n",
    "\n",
    "l.remove(100)\n",
    "print(l)\n",
    "\n",
    "l.clear()\n",
    "print(l)"
   ]
  },
  {
   "cell_type": "code",
   "execution_count": null,
   "metadata": {},
   "outputs": [],
   "source": [
    "l = [1,5,2,4,3]\n",
    "\n",
    "b = l.sort()\n",
    "print(b)\n",
    "print(l)"
   ]
  },
  {
   "cell_type": "code",
   "execution_count": null,
   "metadata": {},
   "outputs": [],
   "source": [
    "l = [1,5,2,4,3]\n",
    "\n",
    "b = sorted(l)\n",
    "print(b)\n",
    "print(l)"
   ]
  },
  {
   "cell_type": "code",
   "execution_count": null,
   "metadata": {},
   "outputs": [],
   "source": [
    "l = [1,5,2,4,3]\n",
    "\n",
    "l.reverse()     ## 냅다 뒤집어!\n",
    "print(l)\n",
    "\n",
    "l.sort(reverse = 1)     ## 그래도 정렬은 하고 뒤집어!\n",
    "print(l)"
   ]
  },
  {
   "attachments": {},
   "cell_type": "markdown",
   "metadata": {},
   "source": [
    "##### 복습문제 5\n",
    "+ 5개의 값을 한번에 입력받아, 이를 정렬하여 하나씩 출력하는 코드를 작성하시오."
   ]
  },
  {
   "cell_type": "code",
   "execution_count": null,
   "metadata": {},
   "outputs": [],
   "source": [
    "## 입력값: 5 10 4 1 9 (각 값들 사이에는 엔터)\n",
    "\n",
    "\n",
    "\n",
    "## 출력값: 1\n",
    "##         4\n",
    "##         5\n",
    "##         9\n",
    "##         10"
   ]
  },
  {
   "attachments": {},
   "cell_type": "markdown",
   "metadata": {},
   "source": [
    "#### 3)튜플\n",
    "+ 리스트와 똑같지만, immutalbe하다는 점만 다르다.\n",
    "+ 고유한 메소드 없음."
   ]
  },
  {
   "cell_type": "code",
   "execution_count": null,
   "metadata": {},
   "outputs": [],
   "source": [
    "tt = (1,2)\n",
    "n = (1)\n",
    "t = (1,)\n",
    "\n",
    "print(\n",
    "    type(tt),\n",
    "    type(n),\n",
    "    type(t)\n",
    ")"
   ]
  },
  {
   "cell_type": "code",
   "execution_count": null,
   "metadata": {},
   "outputs": [],
   "source": [
    "t = (1, [10,20,30], 4)\n",
    "\n",
    "t[1].append(100)\n",
    "\n",
    "print(t)"
   ]
  },
  {
   "attachments": {},
   "cell_type": "markdown",
   "metadata": {},
   "source": [
    "##### 복습문제 6\n",
    "+ 주어진 변수를 활용해,\n",
    "  + 10 이상의 수를 제거하고,\n",
    "  + 중복 역시 제거하여,\n",
    "  + 정렬한,\n",
    "+ **튜플**을 출력하시오.\n",
    "\n",
    "<br>\n",
    "\n",
    "+ 가능하다면, 한 줄 코드로 작성하시오."
   ]
  },
  {
   "cell_type": "code",
   "execution_count": null,
   "metadata": {},
   "outputs": [],
   "source": [
    "t = (1, 11, 2, 8, 25, 8, 9, 1, 2)\n",
    "\n",
    "\n",
    "\n",
    "print(l)\n",
    "## 출력값: (1, 2, 8, 9)"
   ]
  },
  {
   "attachments": {},
   "cell_type": "markdown",
   "metadata": {},
   "source": [
    "## 중요 개념들과 주요 함수들 빠르게 복습하기\n",
    "+ 함수 포인트: 여러 값을 반환하기, 지역변수/전역변수 개념, 람다함수(익명함수)\n",
    "+ 주요 함수들: zip함수, range함수, enumerate함수"
   ]
  },
  {
   "attachments": {},
   "cell_type": "markdown",
   "metadata": {},
   "source": [
    "#### 함수 포인트"
   ]
  },
  {
   "cell_type": "code",
   "execution_count": null,
   "metadata": {},
   "outputs": [],
   "source": [
    "a = 1               ## 전역변수\n",
    "\n",
    "def print_a():\n",
    "    a = 10          ## 지역변수\n",
    "    b = 100         ## 지역변수\n",
    "    print(a)\n",
    "    return a, b\n",
    "\n",
    "x = print_a()\n",
    "\n",
    "print(x, type(x))    ## 튜플 형식으로 리턴\n",
    "print(a)\n",
    "print(b)"
   ]
  },
  {
   "cell_type": "code",
   "execution_count": null,
   "metadata": {},
   "outputs": [],
   "source": [
    "for x in [1,2,3]:\n",
    "    a = x\n",
    "    b = 100\n",
    "    print(a)\n",
    "    \n",
    "print(a)    ## !! 반복문은 함수가 아니기에, 지역변수가 아니다!!\n",
    "print(b)"
   ]
  },
  {
   "cell_type": "code",
   "execution_count": null,
   "metadata": {},
   "outputs": [],
   "source": [
    "## 람다함수(익명함수)\n",
    "ld = (lambda x: x + 1)\n",
    "print(ld(2))\n",
    "\n",
    "(lambda x:x+1)(2)   ## 이런식으로 쓸 수도 있다."
   ]
  },
  {
   "cell_type": "code",
   "execution_count": null,
   "metadata": {},
   "outputs": [],
   "source": [
    "d = {1:100, 2:20, 3:3}\n",
    "\n",
    "print(sorted(d))\n",
    "print(sorted(d, key = lambda x:d[x]))   ## sorted와 람다함수를 섞어서 맛있게 쓸 수 있다!"
   ]
  },
  {
   "attachments": {},
   "cell_type": "markdown",
   "metadata": {},
   "source": [
    "#### 리스트 내장과 제너레이터 개념"
   ]
  },
  {
   "cell_type": "code",
   "execution_count": null,
   "metadata": {},
   "outputs": [],
   "source": [
    "l = []\n",
    "\n",
    "for x in [1,2,3]:\n",
    "    l.append(x + 10)\n",
    "\n",
    "print(l)"
   ]
  },
  {
   "cell_type": "code",
   "execution_count": null,
   "metadata": {},
   "outputs": [],
   "source": [
    "l = [x + 10 for x in [1,2,3]]\n",
    "print(l)"
   ]
  },
  {
   "cell_type": "code",
   "execution_count": null,
   "metadata": {},
   "outputs": [],
   "source": [
    "l = [x + 10 for x in [1,2,3] if x != 2]\n",
    "print(l)"
   ]
  },
  {
   "cell_type": "code",
   "execution_count": null,
   "metadata": {},
   "outputs": [],
   "source": [
    "l = ['짝수' if x % 2 == 0 else '홀수' for x in [1,2,3,4]]   ## !! 사용하는 형태가 바뀐 것에 유의하자!\n",
    "print(l)"
   ]
  },
  {
   "cell_type": "code",
   "execution_count": null,
   "metadata": {},
   "outputs": [],
   "source": [
    "l = [x+y for x in [1,2,3] for y in [10,20,30]]\n",
    "print(l)"
   ]
  },
  {
   "cell_type": "code",
   "execution_count": null,
   "metadata": {},
   "outputs": [],
   "source": [
    "s = {x+10 for x in (4,5,6)}         ## 집합 내장\n",
    "d = {x:x + 10 for x in {1,2,3}}     ## 사전 내장\n",
    "\n",
    "print(s, d)"
   ]
  },
  {
   "cell_type": "code",
   "execution_count": null,
   "metadata": {},
   "outputs": [],
   "source": [
    "gen = (x+10 for x in [1,2,3])   ## 튜플 내장은?\n",
    "\n",
    "print(gen)\n",
    "print(list(gen))"
   ]
  },
  {
   "attachments": {},
   "cell_type": "markdown",
   "metadata": {},
   "source": [
    "#### 주요 함수들"
   ]
  },
  {
   "cell_type": "code",
   "execution_count": null,
   "metadata": {},
   "outputs": [],
   "source": [
    "print(range(1,10))"
   ]
  },
  {
   "cell_type": "code",
   "execution_count": null,
   "metadata": {},
   "outputs": [],
   "source": [
    "print(\n",
    "    list(range(1,5)),\n",
    "    list(range(5,1,-1)),\n",
    "    list(range(1,5)[::-1]),     ## 윗 줄보다 이게 더 직관적이라고 생각합니다!\n",
    "    sep = '\\n'\n",
    ")"
   ]
  },
  {
   "cell_type": "code",
   "execution_count": null,
   "metadata": {},
   "outputs": [],
   "source": [
    "en = enumerate(['apple', 'banana', 'orange'])\n",
    "\n",
    "print(en)\n",
    "print(list(en))"
   ]
  },
  {
   "cell_type": "code",
   "execution_count": null,
   "metadata": {},
   "outputs": [],
   "source": [
    "fruits = ['apple', 'banana', 'orange']\n",
    "\n",
    "for i in range(len(fruits)):\n",
    "    print(str(i) + \"th fruit is \" + fruits[i])\n",
    "\n",
    "\n",
    "for i, fruit in enumerate(fruits):          ## 이 코드가 더 깔끔하고, 읽기 쉽다.\n",
    "    print(str(i) + \"th fruit is \" + fruit)"
   ]
  },
  {
   "cell_type": "code",
   "execution_count": null,
   "metadata": {},
   "outputs": [],
   "source": [
    "z = zip([1,2,3], (4,5,6))\n",
    "\n",
    "print(z)\n",
    "print(list(z))"
   ]
  }
 ],
 "metadata": {
  "kernelspec": {
   "display_name": "Python 3",
   "language": "python",
   "name": "python3"
  },
  "language_info": {
   "codemirror_mode": {
    "name": "ipython",
    "version": 3
   },
   "file_extension": ".py",
   "mimetype": "text/x-python",
   "name": "python",
   "nbconvert_exporter": "python",
   "pygments_lexer": "ipython3",
   "version": "3.11.1"
  },
  "orig_nbformat": 4
 },
 "nbformat": 4,
 "nbformat_minor": 2
}
