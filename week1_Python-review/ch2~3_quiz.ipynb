{
 "cells": [
  {
   "attachments": {},
   "cell_type": "markdown",
   "metadata": {},
   "source": [
    "#### 1.주어진 변수 a를 활용해 다음 결과물을 출력하는 코드를 작성하세요!"
   ]
  },
  {
   "cell_type": "code",
   "execution_count": null,
   "metadata": {},
   "outputs": [],
   "source": [
    "a = (5,3,4,2,1)\n",
    "\n",
    "\n",
    "print(b)   \n",
    "# 출력값: ['1','2','3','4','5']"
   ]
  },
  {
   "attachments": {},
   "cell_type": "markdown",
   "metadata": {},
   "source": [
    "#### 2.주어진 변수들을 활용해, 다음과 같은 작업을 수행하는 코드를 작성하세요!\n",
    "+ keys의 원소들을 key값으로 가지고, \n",
    "+ 해당 key값은 values의 원소들 중 10의 자리가 key값과 같은 원소들을 value값을 담는 리스트로 가지는 코드 작성.\n",
    "+ 반복문/리스트 내장은 최대 두 번까지 사용할 수 있음."
   ]
  },
  {
   "cell_type": "code",
   "execution_count": null,
   "metadata": {},
   "outputs": [],
   "source": [
    "d = {}\n",
    "keys = [1,2,3]\n",
    "values = [10,32,25,29,17,30,22,11,34]\n",
    "\n",
    "\n",
    "\n",
    "print(d)\n",
    "## 출력값: {1: [10, 17, 11], 2: [25, 29, 22], 3: [32, 30, 34]}"
   ]
  },
  {
   "attachments": {},
   "cell_type": "markdown",
   "metadata": {},
   "source": [
    "#### 3.주어진 사전의 key와 value를 바꿔주세요!\n",
    "+ 단, 새로운 변수를 만들지 말고 주어진 변수를 그대로 사용하세요."
   ]
  },
  {
   "cell_type": "code",
   "execution_count": null,
   "metadata": {},
   "outputs": [],
   "source": [
    "d = {1:10, 2:20, 3:30}\n",
    "\n",
    "\n",
    "\n",
    "print(d)\n",
    "## 출력값: {10: 1, 20: 2, 30: 3}"
   ]
  },
  {
   "attachments": {},
   "cell_type": "markdown",
   "metadata": {},
   "source": [
    "#### 4.for문을 한번만 사용해 다음 출력값을 얻는 코드를 작성하세요!"
   ]
  },
  {
   "cell_type": "code",
   "execution_count": null,
   "metadata": {},
   "outputs": [],
   "source": [
    "name_age = [\n",
    "    ['John', 'Jane', 'Won'],\n",
    "    [10, 40, 20]\n",
    "]\n",
    "\n",
    "\n",
    "\n",
    "    \n",
    "## 출력값:\n",
    "# John is 10 years old.\n",
    "# Jane is 40 years old.\n",
    "# Won is 20 years old."
   ]
  },
  {
   "attachments": {},
   "cell_type": "markdown",
   "metadata": {},
   "source": [
    "#### 5.주어진 대기자 목록에 대하여, 다음을 수행하는 코드를 작성하세요.\n",
    "\n",
    "+ 리스트 순서대로 대기번호를 0부터 매겨,\n",
    "  + 대기번호가 짝수(0을 포함)면 1번 창구로 가라는 문장을 출력하고,\n",
    "  + 대기번호가 홀수면 2번 창구로 가라는 문장을 출력한다."
   ]
  },
  {
   "cell_type": "code",
   "execution_count": null,
   "metadata": {},
   "outputs": [],
   "source": [
    "waiters = ['jong', 'david', 'vicky', 'kayle']\n",
    "\n",
    "        \n",
    "## 출력값:\n",
    "# jong 손님은 1번 창구로 오세요.\n",
    "# david 손님은 2번 창구로 오세요.\n",
    "# vicky 손님은 1번 창구로 오세요.\n",
    "# kayle 손님은 2번 창구로 오세요."
   ]
  },
  {
   "attachments": {},
   "cell_type": "markdown",
   "metadata": {},
   "source": [
    "#### 6. 주어진 문장에서 단어별 빈도수를 출력하는 코드를 짜세요!\n",
    "+ 단, 각 단어에서 문장부호는 제거하세요.\n",
    "+ I를 제외한 모든 단어들은 소문자로 정규화하세요.\n",
    "+ 출력 순서는 원 문장 `s`에서 해당 단어가 출현하는 순서와 같아야 합니다."
   ]
  },
  {
   "cell_type": "code",
   "execution_count": null,
   "metadata": {},
   "outputs": [],
   "source": [
    "s = 'I watch you all the time! I always watch you! I will always be your own watch. Watch is your own.'\n",
    "\n",
    "\n",
    "    \n",
    "## 출력값:\n",
    "# I 3\n",
    "# always 2\n",
    "# all 1\n",
    "# you 2\n",
    "# own 2\n",
    "# be 1\n",
    "# time 1\n",
    "# watch 4\n",
    "# your 2\n",
    "# will 1\n",
    "# is 1\n",
    "# the 1"
   ]
  }
 ],
 "metadata": {
  "kernelspec": {
   "display_name": "Python 3",
   "language": "python",
   "name": "python3"
  },
  "language_info": {
   "codemirror_mode": {
    "name": "ipython",
    "version": 3
   },
   "file_extension": ".py",
   "mimetype": "text/x-python",
   "name": "python",
   "nbconvert_exporter": "python",
   "pygments_lexer": "ipython3",
   "version": "3.11.1"
  },
  "orig_nbformat": 4
 },
 "nbformat": 4,
 "nbformat_minor": 2
}
