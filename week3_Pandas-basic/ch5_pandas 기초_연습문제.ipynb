{
 "cells": [
  {
   "cell_type": "code",
   "execution_count": 2,
   "metadata": {},
   "outputs": [],
   "source": [
    "import numpy as np\n",
    "\n",
    "import pandas as pd"
   ]
  },
  {
   "attachments": {},
   "cell_type": "markdown",
   "metadata": {},
   "source": [
    "### 문제1\n",
    "아래 이미지와 같은 데이터프레임을 생성해보세요."
   ]
  },
  {
   "attachments": {},
   "cell_type": "markdown",
   "metadata": {},
   "source": [
    "![](https://pbs.twimg.com/media/FvC_L8YaMAAgZx1?format=png&name=360x360)"
   ]
  },
  {
   "cell_type": "code",
   "execution_count": null,
   "metadata": {},
   "outputs": [],
   "source": []
  },
  {
   "attachments": {},
   "cell_type": "markdown",
   "metadata": {},
   "source": [
    "### 문제2\n",
    "주어진 데이터를 더해 NaN가 없는 데이터프레임을 만들어보세요."
   ]
  },
  {
   "cell_type": "code",
   "execution_count": 10,
   "metadata": {},
   "outputs": [],
   "source": [
    "S1 = pd.Series([1,2,3,4,3,2,1], index = [0,2,3,4,6,8,9])\n",
    "S2 = pd.Series([5,4,2,8,6,3,7], index = [1,2,3,5,7,8,9])"
   ]
  },
  {
   "attachments": {},
   "cell_type": "markdown",
   "metadata": {},
   "source": [
    "### 문제3\n",
    "주어진 데이터프레임과 loc를 이용해 화요일 6교시에 있는 수업을 \"CLING\"으로 바꾸는 코드를 작성하세요."
   ]
  },
  {
   "cell_type": "code",
   "execution_count": 12,
   "metadata": {},
   "outputs": [
    {
     "data": {
      "text/html": [
       "<div>\n",
       "<style scoped>\n",
       "    .dataframe tbody tr th:only-of-type {\n",
       "        vertical-align: middle;\n",
       "    }\n",
       "\n",
       "    .dataframe tbody tr th {\n",
       "        vertical-align: top;\n",
       "    }\n",
       "\n",
       "    .dataframe thead th {\n",
       "        text-align: right;\n",
       "    }\n",
       "</style>\n",
       "<table border=\"1\" class=\"dataframe\">\n",
       "  <thead>\n",
       "    <tr style=\"text-align: right;\">\n",
       "      <th></th>\n",
       "      <th>월요일</th>\n",
       "      <th>화요일</th>\n",
       "      <th>수요일</th>\n",
       "      <th>목요일</th>\n",
       "    </tr>\n",
       "  </thead>\n",
       "  <tbody>\n",
       "    <tr>\n",
       "      <th>3교시</th>\n",
       "      <td>라틴어</td>\n",
       "      <td>ACADEMIC ENGLISH</td>\n",
       "      <td>라틴어</td>\n",
       "      <td>ACADEMIC ENGLISH</td>\n",
       "    </tr>\n",
       "    <tr>\n",
       "      <th>4교시</th>\n",
       "      <td>라틴어</td>\n",
       "      <td></td>\n",
       "      <td>라틴어</td>\n",
       "      <td></td>\n",
       "    </tr>\n",
       "    <tr>\n",
       "      <th>5교시</th>\n",
       "      <td>근대매체와 한국문학</td>\n",
       "      <td>자유정의진리II</td>\n",
       "      <td>근대매체와 한국문학</td>\n",
       "      <td>자유정의진리II</td>\n",
       "    </tr>\n",
       "    <tr>\n",
       "      <th>6교시</th>\n",
       "      <td>동아시아사의 재조명</td>\n",
       "      <td>번역을 통해 본...</td>\n",
       "      <td>동아시아사의 재조명</td>\n",
       "      <td>번역을 통해 본...</td>\n",
       "    </tr>\n",
       "    <tr>\n",
       "      <th>7교시</th>\n",
       "      <td></td>\n",
       "      <td></td>\n",
       "      <td>디지털인문학입문II</td>\n",
       "      <td></td>\n",
       "    </tr>\n",
       "    <tr>\n",
       "      <th>8교시</th>\n",
       "      <td></td>\n",
       "      <td></td>\n",
       "      <td>디지털인문학입문II</td>\n",
       "      <td></td>\n",
       "    </tr>\n",
       "  </tbody>\n",
       "</table>\n",
       "</div>"
      ],
      "text/plain": [
       "            월요일               화요일         수요일               목요일\n",
       "3교시         라틴어  ACADEMIC ENGLISH         라틴어  ACADEMIC ENGLISH\n",
       "4교시         라틴어                           라틴어                  \n",
       "5교시  근대매체와 한국문학          자유정의진리II  근대매체와 한국문학          자유정의진리II\n",
       "6교시  동아시아사의 재조명       번역을 통해 본...  동아시아사의 재조명       번역을 통해 본...\n",
       "7교시                                디지털인문학입문II                  \n",
       "8교시                                디지털인문학입문II                  "
      ]
     },
     "execution_count": 12,
     "metadata": {},
     "output_type": "execute_result"
    }
   ],
   "source": [
    "DF = pd.DataFrame({\"월요일\":[\"라틴어\", \"라틴어\", \"근대매체와 한국문학\", \"동아시아사의 재조명\", \" \", \" \"],\n",
    "                   \"화요일\":[\"ACADEMIC ENGLISH\", \" \", \"자유정의진리II\", \"번역을 통해 본...\", \" \", \" \"],\n",
    "                   \"수요일\":[\"라틴어\", \"라틴어\", \"근대매체와 한국문학\", \"동아시아사의 재조명\", \"디지털인문학입문II\", \"디지털인문학입문II\"],\n",
    "                   \"목요일\":[\"ACADEMIC ENGLISH\", \" \", \"자유정의진리II\", \"번역을 통해 본...\", \" \", \" \"]},\n",
    "                   index = [\"3교시\", \"4교시\", \"5교시\", \"6교시\", \"7교시\", \"8교시\"])\n",
    "\n",
    "DF"
   ]
  },
  {
   "attachments": {},
   "cell_type": "markdown",
   "metadata": {},
   "source": [
    "### 문제4\n",
    "주어진 시리즈를 이용해 아래 이미지와 같은 결과가 나오도록 코드를 작성하세요.<br>\n",
    "코드를 작성하기 전에 각 값의 개수를 세어보세요."
   ]
  },
  {
   "attachments": {},
   "cell_type": "markdown",
   "metadata": {},
   "source": [
    "![](https://pbs.twimg.com/media/FvDGe3naQAErvr6?format=png&name=small)"
   ]
  },
  {
   "cell_type": "code",
   "execution_count": 16,
   "metadata": {},
   "outputs": [],
   "source": [
    "S = pd.Series(list(\"간장공장공장장은장공장장이다\"))"
   ]
  }
 ],
 "metadata": {
  "kernelspec": {
   "display_name": "Python 3",
   "language": "python",
   "name": "python3"
  },
  "language_info": {
   "codemirror_mode": {
    "name": "ipython",
    "version": 3
   },
   "file_extension": ".py",
   "mimetype": "text/x-python",
   "name": "python",
   "nbconvert_exporter": "python",
   "pygments_lexer": "ipython3",
   "version": "3.10.3"
  },
  "orig_nbformat": 4
 },
 "nbformat": 4,
 "nbformat_minor": 2
}
