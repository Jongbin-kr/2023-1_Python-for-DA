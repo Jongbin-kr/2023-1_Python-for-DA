{
 "cells": [
  {
   "cell_type": "code",
   "execution_count": null,
   "metadata": {},
   "outputs": [],
   "source": [
    "import pandas as pd\n",
    "import numpy as np"
   ]
  },
  {
   "attachments": {},
   "cell_type": "markdown",
   "metadata": {},
   "source": [
    "## 8.1. 멀티 인덱스"
   ]
  },
  {
   "attachments": {},
   "cell_type": "markdown",
   "metadata": {},
   "source": [
    "### 8.1.1. 멀티인덱스의 인덱싱/슬라이싱"
   ]
  },
  {
   "attachments": {},
   "cell_type": "markdown",
   "metadata": {},
   "source": [
    "#### 시리즈의 경우"
   ]
  },
  {
   "cell_type": "code",
   "execution_count": null,
   "metadata": {},
   "outputs": [],
   "source": [
    "## 기존의 시리즈 인덱싱/슬라이싱은 이렇게 했다!\n",
    "\n",
    "s = pd.Series(np.arange(10), index = ['a','a','a','b','b','b','c','c','c','c'])\n",
    "s"
   ]
  },
  {
   "cell_type": "code",
   "execution_count": null,
   "metadata": {},
   "outputs": [],
   "source": [
    "print(s.loc['a'])\n",
    "print(s.loc['a':'b'])\n",
    "print(s.loc[['a','c']])"
   ]
  },
  {
   "cell_type": "code",
   "execution_count": null,
   "metadata": {},
   "outputs": [],
   "source": [
    "## 파이썬처럼 그냥 슬라이싱도 가능하지만, iloc/loc를 쓰는 방식이 더 추천된다.\n",
    "## 출처: https://stackoverflow.com/questions/45983801/pandas-iloc-vs-direct-slicing\n",
    "\n",
    "print(s['a'])\n",
    "print(s['a':'b'])\n",
    "print(s[['a','c']])"
   ]
  },
  {
   "cell_type": "code",
   "execution_count": null,
   "metadata": {},
   "outputs": [],
   "source": [
    "data = pd.Series(np.arange(100,110),\n",
    "                 index = [['a','a','a','b','b','b','c','c','c','c'],\n",
    "                          [1,1,3,1,3,1,1,2,2,3]])\n",
    "\n",
    "data"
   ]
  },
  {
   "cell_type": "code",
   "execution_count": null,
   "metadata": {},
   "outputs": [],
   "source": [
    "data.index"
   ]
  },
  {
   "cell_type": "code",
   "execution_count": null,
   "metadata": {},
   "outputs": [],
   "source": [
    "print(\n",
    "    data.loc['a'],\n",
    "    data.loc['a':'b'],\n",
    "    data.loc[['a', 'c']],    ## 괄호를 하나 더 쓴 것에 주의하자!\n",
    "    sep = '\\n\\n'\n",
    ")"
   ]
  },
  {
   "cell_type": "code",
   "execution_count": null,
   "metadata": {},
   "outputs": [],
   "source": [
    "print(\n",
    "    data.loc[:,1],      ## iloc가 아니라 loc다!\n",
    "    data.loc['a',1],\n",
    "    data.loc[['a','c'],1],\n",
    "    sep='\\n\\n'\n",
    ")\n"
   ]
  },
  {
   "attachments": {},
   "cell_type": "markdown",
   "metadata": {},
   "source": [
    "#### 데이터 프레임의 경우"
   ]
  },
  {
   "cell_type": "code",
   "execution_count": null,
   "metadata": {},
   "outputs": [],
   "source": [
    "df = pd.DataFrame(np.arange(9).reshape(3,3), index = ['a','b','c'], columns=[1,2,3])\n",
    "df"
   ]
  },
  {
   "cell_type": "code",
   "execution_count": null,
   "metadata": {},
   "outputs": [],
   "source": [
    "print(df.loc['a', :])\n",
    "print(df.loc[:, 2])\n",
    "print('\\n')\n",
    "\n",
    "print(df.loc['a', 2])\n",
    "print('\\n')\n",
    "\n",
    "print(df.iloc[0,:])     ## iloc는 주어진 칼럼/인덱스명과 무관하게 컴퓨터 고유의 인덱스값(0부터 시작하는 값)을 기준으로 색인한다!!\n",
    "print(df.iloc[:,2])"
   ]
  },
  {
   "cell_type": "code",
   "execution_count": null,
   "metadata": {},
   "outputs": [],
   "source": [
    "## 멀티인덱스를 가진 데이터프레임\n",
    "ddf = pd.DataFrame(np.arange(20).reshape(4,5), index = [['a','a','b','b'], ['x','y','x','y']], columns=[[100,100,200,200,200], [88,88,88,77,77]])\n",
    "ddf.columns.names = ['hundred', 'ten']\n",
    "\n",
    "ddf"
   ]
  },
  {
   "cell_type": "code",
   "execution_count": null,
   "metadata": {},
   "outputs": [],
   "source": [
    "print(ddf.loc['a'], type(ddf.loc['a']))\n",
    "print('\\n')\n",
    "\n",
    "print(ddf.loc['a','x'], type(ddf.loc['a','x']))   ## 멀티인덱스를 가진 시리즈!\n",
    "print('\\n')\n",
    "\n",
    "print(ddf.loc[:,:], type(ddf.loc['a']))\n",
    "print('\\n')\n",
    "\n",
    "print(ddf.loc['a','x'].loc[200], type(ddf.loc['a','x'].loc[200]))\n",
    "print('\\n')\n",
    "\n",
    "print(ddf.loc['a','x'].loc[200,88], type(ddf.loc['a','x'].loc[200,88]))"
   ]
  },
  {
   "attachments": {},
   "cell_type": "markdown",
   "metadata": {},
   "source": [
    "##### 🤔 데이터 프레임과 시리즈의 관계\n",
    "+ 데이터프레임은 멀티인덱스가 있는 시리즈에서 하나의 인덱스의 축을 바꾼 것과 같다.(axis=0 --> axis=1)\n",
    "  + stack은 칼럼을 로우로 바꾸고,\n",
    "  + unstack은 로우를 칼럼으로 바꾼다!"
   ]
  },
  {
   "cell_type": "code",
   "execution_count": null,
   "metadata": {},
   "outputs": [],
   "source": [
    "data = pd.Series(np.arange(9), index = [['a','a','a','b','b','c','c','d','d'], [1,2,3,1,3,1,2,2,3]])\n",
    "data"
   ]
  },
  {
   "cell_type": "code",
   "execution_count": null,
   "metadata": {},
   "outputs": [],
   "source": [
    "udata = data.unstack()\n",
    "print(type(udata))\n",
    "print(udata.index, udata.columns)\n",
    "udata"
   ]
  },
  {
   "cell_type": "code",
   "execution_count": null,
   "metadata": {},
   "outputs": [],
   "source": [
    "udata.stack()"
   ]
  },
  {
   "cell_type": "code",
   "execution_count": null,
   "metadata": {},
   "outputs": [],
   "source": [
    "## 데이터 프레임 역시 마찬가지! 시리즈로 쉽게 바꿀 수 있다!\n",
    "df = pd.DataFrame(np.arange(9).reshape(3,3), index = ['a','b','c'], columns=[1,2,3])\n",
    "df"
   ]
  },
  {
   "cell_type": "code",
   "execution_count": null,
   "metadata": {},
   "outputs": [],
   "source": [
    "udf = df.unstack()\n",
    "print(type(udf))\n",
    "print(udf.index)\n",
    "udf"
   ]
  },
  {
   "cell_type": "code",
   "execution_count": null,
   "metadata": {},
   "outputs": [],
   "source": [
    "print(df.index, df.columns)\n",
    "print(type(df.index), type(df.columns))\n",
    "\n",
    "## !! 인덱스나 칼럼이나 둘 다 결국은 인덱스 데이터타입이구나!!"
   ]
  },
  {
   "cell_type": "code",
   "execution_count": null,
   "metadata": {},
   "outputs": [],
   "source": [
    "ddf = pd.DataFrame(np.arange(20).reshape(4,5), index = [['a','a','b','b'], ['x','y','x','y']], columns=[[100,100,200,200,200], [88,88,88,77,77]])\n",
    "ddf"
   ]
  },
  {
   "cell_type": "code",
   "execution_count": null,
   "metadata": {},
   "outputs": [],
   "source": [
    "uddf = ddf.unstack()\n",
    "print(uddf.index, uddf.columns)\n",
    "uddf"
   ]
  },
  {
   "cell_type": "code",
   "execution_count": null,
   "metadata": {},
   "outputs": [],
   "source": [
    "uuddf = uddf.unstack()\n",
    "print(uuddf)\n",
    "print(uuddf.index)"
   ]
  },
  {
   "attachments": {},
   "cell_type": "markdown",
   "metadata": {},
   "source": [
    "##### 연습문제1\n",
    "아래 데이터프레임에서 단과대학이 문과대학, 학과가 언어학과이고, 점수가 65점 이하인 학생의 이름만 추출하시오."
   ]
  },
  {
   "cell_type": "code",
   "execution_count": null,
   "metadata": {},
   "outputs": [],
   "source": [
    "df = pd.DataFrame({'name': ['A','B','C','D','E','F'],\n",
    "                       'score': [60,70,100,20,30,40]}, \n",
    "                      index = [['문대','문대','문대','문대','정대','정대'],['언어','언어','영문','언어','통계','통계']],\n",
    "                      )\n",
    "df.index.names = ('단대','학과')\n",
    "df"
   ]
  },
  {
   "cell_type": "code",
   "execution_count": null,
   "metadata": {},
   "outputs": [],
   "source": []
  },
  {
   "attachments": {},
   "cell_type": "markdown",
   "metadata": {},
   "source": [
    "### 8.1.2. 멀티인덱스의 순서바꾸기/정렬하기"
   ]
  },
  {
   "attachments": {},
   "cell_type": "markdown",
   "metadata": {},
   "source": [
    "#### 순서 바꾸기"
   ]
  },
  {
   "cell_type": "code",
   "execution_count": null,
   "metadata": {},
   "outputs": [],
   "source": [
    "ddf = pd.DataFrame(np.arange(20).reshape(4,5), index = [['a','a','b','b'], ['x','y','x','y']], columns=[[100,100,200,200,200], [88,88,88,77,77]])\n",
    "ddf"
   ]
  },
  {
   "cell_type": "code",
   "execution_count": null,
   "metadata": {},
   "outputs": [],
   "source": [
    "ddf.swaplevel(0,1)"
   ]
  },
  {
   "cell_type": "code",
   "execution_count": null,
   "metadata": {},
   "outputs": [],
   "source": [
    "ddf.swaplevel(0,1, axis=1)"
   ]
  },
  {
   "cell_type": "code",
   "execution_count": null,
   "metadata": {},
   "outputs": [],
   "source": [
    "ddf.index.names = ['ab', 'xy']\n",
    "ddf.columns.names = ['hundred', 'ten']\n",
    "ddf"
   ]
  },
  {
   "cell_type": "code",
   "execution_count": null,
   "metadata": {},
   "outputs": [],
   "source": [
    "ddf.swaplevel('ab','xy')"
   ]
  },
  {
   "cell_type": "code",
   "execution_count": null,
   "metadata": {},
   "outputs": [],
   "source": [
    "ddf.swaplevel('hundred','ten', axis=1)"
   ]
  },
  {
   "cell_type": "code",
   "execution_count": null,
   "metadata": {},
   "outputs": [],
   "source": [
    "ddf"
   ]
  },
  {
   "attachments": {},
   "cell_type": "markdown",
   "metadata": {},
   "source": [
    "#### 정렬하기"
   ]
  },
  {
   "cell_type": "code",
   "execution_count": null,
   "metadata": {},
   "outputs": [],
   "source": [
    "ddf = pd.DataFrame(np.arange(20).reshape(4,5), index = [['a','a','b','b'], ['x','y','x','y']], columns=[[100,100,200,200,200], [88,88,88,77,77]])\n",
    "ddf.index.names = ['ab', 'xy']\n",
    "ddf.columns.names = ['hundred', 'ten']\n",
    "ddf"
   ]
  },
  {
   "cell_type": "code",
   "execution_count": null,
   "metadata": {},
   "outputs": [],
   "source": [
    "ddf.sort_index(level=0)"
   ]
  },
  {
   "cell_type": "code",
   "execution_count": null,
   "metadata": {},
   "outputs": [],
   "source": [
    "ddf.sort_index(level=1)"
   ]
  },
  {
   "cell_type": "code",
   "execution_count": null,
   "metadata": {},
   "outputs": [],
   "source": [
    "ddf.sort_index(level=['xy'])    ## 인덱스의 이름이 지정되어 있다면 이렇게 이름으로도 할 수 있다."
   ]
  },
  {
   "cell_type": "code",
   "execution_count": null,
   "metadata": {},
   "outputs": [],
   "source": [
    "ddf.sort_index(level=0, axis=1)"
   ]
  },
  {
   "cell_type": "code",
   "execution_count": null,
   "metadata": {},
   "outputs": [],
   "source": [
    "ddf.sort_index(level=1, axis=1)"
   ]
  },
  {
   "cell_type": "code",
   "execution_count": null,
   "metadata": {},
   "outputs": [],
   "source": [
    "ddf.sort_values(['ab'])"
   ]
  },
  {
   "cell_type": "code",
   "execution_count": null,
   "metadata": {},
   "outputs": [],
   "source": [
    "ddf.sort_values(['xy'])\n"
   ]
  },
  {
   "cell_type": "code",
   "execution_count": null,
   "metadata": {},
   "outputs": [],
   "source": [
    "ddf.sort_values(['ten'], axis = 1)\n"
   ]
  },
  {
   "attachments": {},
   "cell_type": "markdown",
   "metadata": {},
   "source": [
    "### ~~8.1.3. 계층별 요약통계~~\n",
    "```python\n",
    "ddf.sum(level=0)\n",
    "```\n",
    "+ 일케 하는건데 판다스 버전이 변하면서 사라진 기능인 것 같슴다. (공식문서상에도 더 이상 level인자가 지원되지 않음.)\n",
    "+ 대신 관련 기능을 사용하고 싶다면 `groupby`메소드를 활용하면 된다! (참고: https://stackoverflow.com/questions/24826368/summing-over-a-multiindex-level-in-a-pandas-series)"
   ]
  },
  {
   "attachments": {},
   "cell_type": "markdown",
   "metadata": {},
   "source": [
    "### 8.1.4. 데이터프레임의 인덱스 설정하기"
   ]
  },
  {
   "cell_type": "code",
   "execution_count": null,
   "metadata": {},
   "outputs": [],
   "source": [
    "df = pd.DataFrame({'a': np.arange(0,6),\n",
    "                  'b': np.arange(6,0,-1),\n",
    "                  'x':['x','y','x','y','x', 'x']}\n",
    "                  )\n",
    "df"
   ]
  },
  {
   "cell_type": "code",
   "execution_count": null,
   "metadata": {},
   "outputs": [],
   "source": [
    "df.index"
   ]
  },
  {
   "cell_type": "code",
   "execution_count": null,
   "metadata": {},
   "outputs": [],
   "source": [
    "df.set_index('a')"
   ]
  },
  {
   "cell_type": "code",
   "execution_count": null,
   "metadata": {},
   "outputs": [],
   "source": [
    "df.set_index('a', drop=False)"
   ]
  },
  {
   "cell_type": "code",
   "execution_count": null,
   "metadata": {},
   "outputs": [],
   "source": [
    "idf = df.set_index(['a','b'])\n",
    "idf ## 이렇게 하면 멀티 인덱스를 설정할 수 있겠지"
   ]
  },
  {
   "cell_type": "code",
   "execution_count": null,
   "metadata": {},
   "outputs": [],
   "source": [
    "idf.reset_index()"
   ]
  },
  {
   "cell_type": "code",
   "execution_count": null,
   "metadata": {},
   "outputs": [],
   "source": [
    "ddf = pd.DataFrame(np.arange(20).reshape(4,5), index = [['a','a','b','b'], ['x','y','x','y']], columns=[[100,100,200,200,200], [88,88,88,77,77]])\n",
    "ddf.index.names = ['ab', 'xy']\n",
    "ddf.columns.names = ['hundred', 'ten']\n",
    "ddf"
   ]
  },
  {
   "cell_type": "code",
   "execution_count": null,
   "metadata": {},
   "outputs": [],
   "source": [
    "print(ddf.index, ddf.columns, sep ='\\n\\n')"
   ]
  },
  {
   "cell_type": "code",
   "execution_count": null,
   "metadata": {},
   "outputs": [],
   "source": [
    "rddf = ddf.reset_index()\n",
    "rddf"
   ]
  },
  {
   "cell_type": "code",
   "execution_count": null,
   "metadata": {},
   "outputs": [],
   "source": [
    "print(rddf.index, rddf.columns, sep ='\\n\\n')"
   ]
  },
  {
   "attachments": {},
   "cell_type": "markdown",
   "metadata": {},
   "source": [
    "## 8.2. 데이터 합치기: merge, join, concat"
   ]
  },
  {
   "attachments": {},
   "cell_type": "markdown",
   "metadata": {},
   "source": [
    "### 8.2.1. pd.merge\n",
    "+ 중복된 값을 기준으로 데이터프레임을 합친다!"
   ]
  },
  {
   "cell_type": "code",
   "execution_count": null,
   "metadata": {},
   "outputs": [],
   "source": [
    "df1 = pd.DataFrame({'id':range(5), 'name':['ahra', 'mj', 'haerin', 'J', 'A']})\n",
    "df2 = pd.DataFrame({'id':range(3), 'lvl':[10,20,30]})"
   ]
  },
  {
   "cell_type": "code",
   "execution_count": null,
   "metadata": {},
   "outputs": [],
   "source": [
    "df1"
   ]
  },
  {
   "cell_type": "code",
   "execution_count": null,
   "metadata": {},
   "outputs": [],
   "source": [
    "df2"
   ]
  },
  {
   "cell_type": "code",
   "execution_count": null,
   "metadata": {},
   "outputs": [],
   "source": [
    "mdf = pd.merge(df1, df2)\n",
    "mdf\n",
    "## 중복된 칼럼을 기준으로 merge한다.\n",
    "## id값이 3,4인 경우는 df2에 없기에 merge되지 않았다."
   ]
  },
  {
   "cell_type": "code",
   "execution_count": null,
   "metadata": {},
   "outputs": [],
   "source": [
    "mdf = pd.merge(df1, df2, on= 'id')  ## on 인자는 어느 칼럼을 기준으로 할지를 정한다.\n",
    "mdf"
   ]
  },
  {
   "cell_type": "code",
   "execution_count": null,
   "metadata": {},
   "outputs": [],
   "source": [
    "df3 = pd.DataFrame({'lkey': ['a','b','c'],\n",
    "                    'data1': range(10,13)})\n",
    "\n",
    "df4 = pd.DataFrame({'rkey': ['a','b','d'],\n",
    "                 'data2': range(3)})"
   ]
  },
  {
   "cell_type": "code",
   "execution_count": null,
   "metadata": {},
   "outputs": [],
   "source": [
    "df3"
   ]
  },
  {
   "cell_type": "code",
   "execution_count": null,
   "metadata": {},
   "outputs": [],
   "source": [
    "df4"
   ]
  },
  {
   "cell_type": "code",
   "execution_count": null,
   "metadata": {},
   "outputs": [],
   "source": [
    "pd.merge(df3, df4)      ## 둘이 겹치는 열이 없으니 오류가 뜬다!"
   ]
  },
  {
   "cell_type": "code",
   "execution_count": null,
   "metadata": {},
   "outputs": [],
   "source": [
    "## 둘이 중복되는 열이 없는 경우, 각각 따로 지정해주면 된다.\n",
    "pd.merge(df3, df4, left_on='lkey',right_on='rkey')"
   ]
  },
  {
   "attachments": {},
   "cell_type": "markdown",
   "metadata": {},
   "source": [
    "#### how 인자: inner, left, right, outer"
   ]
  },
  {
   "cell_type": "code",
   "execution_count": null,
   "metadata": {},
   "outputs": [],
   "source": [
    "## 기본 값은 inner. 둘 다 있는 값만 살린다.\n",
    "pd.merge(df3, df4, left_on='lkey',right_on='rkey', how = 'inner')    "
   ]
  },
  {
   "cell_type": "code",
   "execution_count": null,
   "metadata": {},
   "outputs": [],
   "source": [
    "## 왼쪽 데이터프레임에 있는 값들을 살린다!\n",
    "pd.merge(df3, df4, left_on='lkey',right_on='rkey', how = 'left')"
   ]
  },
  {
   "cell_type": "code",
   "execution_count": null,
   "metadata": {},
   "outputs": [],
   "source": [
    "## 오른쪽 데이터프레임에 있는 값들을 살린다!\n",
    "pd.merge(df3, df4, left_on='lkey',right_on='rkey', how = 'right')"
   ]
  },
  {
   "cell_type": "code",
   "execution_count": null,
   "metadata": {},
   "outputs": [],
   "source": [
    "## 모두 살린다!!\n",
    "pd.merge(df3, df4, left_on='lkey',right_on='rkey', how = 'outer')"
   ]
  },
  {
   "attachments": {},
   "cell_type": "markdown",
   "metadata": {},
   "source": [
    "#### 같은 열에 다른 값이 있는 경우?"
   ]
  },
  {
   "cell_type": "code",
   "execution_count": null,
   "metadata": {},
   "outputs": [],
   "source": [
    "df1 = pd.DataFrame({'key': ['a','b','c'],\n",
    "                    'bool':[True, True, True],\n",
    "                    'data1': range(10,13)})\n",
    "\n",
    "df2 = pd.DataFrame({'key': ['a','b','d'],\n",
    "                    'bool':[True, True, True],\n",
    "                     'data1': range(3)})"
   ]
  },
  {
   "cell_type": "code",
   "execution_count": null,
   "metadata": {},
   "outputs": [],
   "source": [
    "df1"
   ]
  },
  {
   "cell_type": "code",
   "execution_count": null,
   "metadata": {},
   "outputs": [],
   "source": [
    "df2"
   ]
  },
  {
   "cell_type": "code",
   "execution_count": null,
   "metadata": {},
   "outputs": [],
   "source": [
    "pd.merge(df1,df2, on='key')     ## 열의 이름이 바뀐다!"
   ]
  },
  {
   "cell_type": "code",
   "execution_count": null,
   "metadata": {},
   "outputs": [],
   "source": [
    "pd.merge(df1,df2, on='key', suffixes=('_left', '_right'))"
   ]
  },
  {
   "cell_type": "code",
   "execution_count": null,
   "metadata": {},
   "outputs": [],
   "source": [
    "## 혹은 이렇게 여러 열을 기준으로 삼을 수도 있다.\n",
    "pd.merge(df1, df2, on=['key', 'bool'])"
   ]
  },
  {
   "attachments": {},
   "cell_type": "markdown",
   "metadata": {},
   "source": [
    "#### 기준열이 index에 있는 경우"
   ]
  },
  {
   "cell_type": "code",
   "execution_count": null,
   "metadata": {},
   "outputs": [],
   "source": [
    "## 이번엔 merge의 기준열이 index에 있다\n",
    "df3 = pd.DataFrame({'lkey': ['a','b','c'],\n",
    "                    'data1': range(10,13)})\n",
    "\n",
    "df4 = pd.DataFrame({'data2': range(3)}, index = ['a','b','c'])"
   ]
  },
  {
   "cell_type": "code",
   "execution_count": null,
   "metadata": {},
   "outputs": [],
   "source": [
    "df3"
   ]
  },
  {
   "cell_type": "code",
   "execution_count": null,
   "metadata": {},
   "outputs": [],
   "source": [
    "df4"
   ]
  },
  {
   "cell_type": "code",
   "execution_count": null,
   "metadata": {},
   "outputs": [],
   "source": [
    "## 이런 경우, right_index, left_index 옵션!\n",
    "pd.merge(df3, df4, left_on = 'lkey', right_index = True)\n",
    "\n",
    "## 단, 인덱스값이 유지되지 않고, 칼럼으로 들어간다!"
   ]
  },
  {
   "attachments": {},
   "cell_type": "markdown",
   "metadata": {},
   "source": [
    "### 8.2.2. df.join\n",
    "+ **pd.join()이 아니라 데이터프레임의 메소드 형식으로 사용해야한다. (ex. df1.join(~~~))**\n",
    "+ 무조건 인덱스를 기준으로 합친다!"
   ]
  },
  {
   "cell_type": "code",
   "execution_count": null,
   "metadata": {},
   "outputs": [],
   "source": [
    "df1 = pd.DataFrame(range(5), index = ['A','B','C','D','E'], columns=['score'])\n",
    "df2 = pd.DataFrame({'pass':[True, False, False]}, index = ['A','B','C'])"
   ]
  },
  {
   "cell_type": "code",
   "execution_count": null,
   "metadata": {},
   "outputs": [],
   "source": [
    "df1"
   ]
  },
  {
   "cell_type": "code",
   "execution_count": null,
   "metadata": {},
   "outputs": [],
   "source": [
    "df2"
   ]
  },
  {
   "cell_type": "code",
   "execution_count": null,
   "metadata": {},
   "outputs": [],
   "source": [
    "df1.join(df2)"
   ]
  },
  {
   "cell_type": "code",
   "execution_count": null,
   "metadata": {},
   "outputs": [],
   "source": [
    "df1.join(df2, how=\"inner\")\n"
   ]
  },
  {
   "cell_type": "code",
   "execution_count": null,
   "metadata": {},
   "outputs": [],
   "source": [
    "df1.join(df2, how='right')\n"
   ]
  },
  {
   "cell_type": "code",
   "execution_count": null,
   "metadata": {},
   "outputs": [],
   "source": [
    "df1.join(df2, how='left')"
   ]
  },
  {
   "cell_type": "code",
   "execution_count": null,
   "metadata": {},
   "outputs": [],
   "source": [
    "df2.join(df1, how='outer')"
   ]
  },
  {
   "cell_type": "code",
   "execution_count": null,
   "metadata": {},
   "outputs": [],
   "source": [
    "## 여러 개를 join할 수도 있다!\n",
    "another = pd.DataFrame({'MF':['M','M','F','F','F']},\n",
    "                       index = ['A','B','C','D','E'] )\n",
    "\n",
    "another"
   ]
  },
  {
   "cell_type": "code",
   "execution_count": null,
   "metadata": {},
   "outputs": [],
   "source": [
    "df1.join([df2, another])"
   ]
  },
  {
   "attachments": {},
   "cell_type": "markdown",
   "metadata": {},
   "source": [
    "### 8.2.3. pd.concat\n",
    "+ 축을 따라서 쭉 이어붙인다!\n",
    "\n",
    "<br>\n",
    "\n",
    "참고: 판다스의 데이터프레임 뿐만 아니라, 시리즈나 넘파이의 ndarray에도 동일하게 적용할 수 있다."
   ]
  },
  {
   "cell_type": "code",
   "execution_count": null,
   "metadata": {},
   "outputs": [],
   "source": [
    "s1 = pd.Series([0,1], index = ['a','b'])\n",
    "s2 = pd.Series([2,3,4], index = ['c','d','e'])\n",
    "s3 = pd.Series([5,6], index = ['f','g'])"
   ]
  },
  {
   "cell_type": "code",
   "execution_count": null,
   "metadata": {},
   "outputs": [],
   "source": [
    "pd.concat([s1, s2, s3])     ## 기본값은 axis=0, 즉 행방향."
   ]
  },
  {
   "cell_type": "code",
   "execution_count": null,
   "metadata": {},
   "outputs": [],
   "source": [
    "pd.concat([s1, s2, s3], axis = 1)   ## axis=1, 열방향."
   ]
  },
  {
   "cell_type": "code",
   "execution_count": null,
   "metadata": {},
   "outputs": [],
   "source": [
    "## 겹치는 값이 있으면, 앞서 how 인자처럼, join 인자를 줄 수 있다!\n",
    "s1 = pd.Series([0,1,2], index = ['a','b','e'])\n",
    "s2 = pd.Series([10,20,30,40], index = ['b','c','d','e'])"
   ]
  },
  {
   "cell_type": "code",
   "execution_count": null,
   "metadata": {},
   "outputs": [],
   "source": [
    "pd.concat([s1,s2], axis=1)"
   ]
  },
  {
   "cell_type": "code",
   "execution_count": null,
   "metadata": {},
   "outputs": [],
   "source": [
    "pd.concat([s1,s2], axis=1, join='inner')"
   ]
  },
  {
   "cell_type": "code",
   "execution_count": null,
   "metadata": {},
   "outputs": [],
   "source": [
    "pd.concat([s1,s2], axis=1, join='outer')"
   ]
  },
  {
   "attachments": {},
   "cell_type": "markdown",
   "metadata": {},
   "source": [
    "#### key 인자를 통해 concat하기 전 데이터를 구분하기"
   ]
  },
  {
   "cell_type": "code",
   "execution_count": null,
   "metadata": {},
   "outputs": [],
   "source": [
    "s1 = pd.Series([0,1], index = ['a','b'])\n",
    "s2 = pd.Series([2,3,4], index = ['c','d','e'])\n",
    "s3 = pd.Series([5,6], index = ['f','g'])"
   ]
  },
  {
   "cell_type": "code",
   "execution_count": null,
   "metadata": {},
   "outputs": [],
   "source": [
    "pd.concat([s1,s2,s3])"
   ]
  },
  {
   "cell_type": "code",
   "execution_count": null,
   "metadata": {},
   "outputs": [],
   "source": [
    "cc = pd.concat([s1,s2,s3], keys=['s1','s2','s3'])\n",
    "cc"
   ]
  },
  {
   "cell_type": "code",
   "execution_count": null,
   "metadata": {},
   "outputs": [],
   "source": [
    "## 멅티인덱스가 생기는구나~\n",
    "cc.index"
   ]
  },
  {
   "cell_type": "code",
   "execution_count": null,
   "metadata": {},
   "outputs": [],
   "source": [
    "pd.concat([s1,s2,s3], keys=['s1','s2','s3'], axis=1)\n",
    "\n",
    "## axis를 1로 하면 key값은 칼럼명으로 들어간다."
   ]
  },
  {
   "cell_type": "code",
   "execution_count": null,
   "metadata": {},
   "outputs": [],
   "source": [
    "## 혹은 사전 형식으로 인자를 전달해도 같은 결과.\n",
    "pd.concat({'s1':s1, 's2':s2, 's3':s3}, axis=0)"
   ]
  },
  {
   "attachments": {},
   "cell_type": "markdown",
   "metadata": {},
   "source": [
    "#### 인덱스가 겹치면 어떻게 할까?\n",
    "+ ignore_index 인자\n",
    "+ verify_integrity 인자"
   ]
  },
  {
   "cell_type": "code",
   "execution_count": null,
   "metadata": {},
   "outputs": [],
   "source": [
    "df1 = pd.DataFrame(range(3), index= ['a','b','c'])\n",
    "df2 = pd.DataFrame(range(3,6), index= ['b','c','d'])"
   ]
  },
  {
   "cell_type": "code",
   "execution_count": null,
   "metadata": {},
   "outputs": [],
   "source": [
    "df1"
   ]
  },
  {
   "cell_type": "code",
   "execution_count": null,
   "metadata": {},
   "outputs": [],
   "source": [
    "df2"
   ]
  },
  {
   "cell_type": "code",
   "execution_count": null,
   "metadata": {},
   "outputs": [],
   "source": [
    "## 기본값은 인덱스가 중복되어 나온다\n",
    "pd.concat([df1, df2], axis = 0)"
   ]
  },
  {
   "cell_type": "code",
   "execution_count": null,
   "metadata": {},
   "outputs": [],
   "source": [
    "## 이런식으로 인덱스의 중복을 없애고, 기본 인덱스로 바꿀 수 있다!\n",
    "\n",
    "pd.concat([df1, df2], axis = 0, ignore_index=True)"
   ]
  },
  {
   "cell_type": "code",
   "execution_count": null,
   "metadata": {},
   "outputs": [],
   "source": [
    "## 인덱스에 중복이 있는 경우 오류를 발생시킨다!\n",
    "pd.concat([df1, df2], axis = 0, verify_integrity=True)"
   ]
  },
  {
   "attachments": {
    "image.png": {
     "image/png": "[encoded data removed]"
    }
   },
   "cell_type": "markdown",
   "metadata": {},
   "source": [
    "#### 연습문제2\n",
    "주어진 데이터프레임을 활용해 사진과 같은 표를 만드시오.\n",
    "\n",
    "![image.png](attachment:image.png)"
   ]
  },
  {
   "cell_type": "code",
   "execution_count": null,
   "metadata": {},
   "outputs": [],
   "source": [
    "df1 = pd.DataFrame({'value': [0,1,2,3,4,5]}, index=['a','b','c','d','e','f'])\n",
    "df2 = pd.DataFrame({'value': [3,4,5,6,7]})\n",
    "\n",
    "df1"
   ]
  },
  {
   "cell_type": "code",
   "execution_count": null,
   "metadata": {},
   "outputs": [],
   "source": []
  },
  {
   "attachments": {},
   "cell_type": "markdown",
   "metadata": {},
   "source": [
    "## 8.3. 데이터 재구조화 및 피벗/멜트"
   ]
  },
  {
   "attachments": {},
   "cell_type": "markdown",
   "metadata": {},
   "source": [
    "### 8.3.1. 데이터 재구조화"
   ]
  },
  {
   "cell_type": "code",
   "execution_count": null,
   "metadata": {},
   "outputs": [],
   "source": [
    "data = pd.DataFrame(np.arange(6).reshape((2, 3)),\n",
    "                    index=pd.Index(['Ohio', 'Colorado'], name='state'),\n",
    "                    columns=pd.Index(['one', 'two', 'three'],\n",
    "                    name='number'))\n",
    "\n",
    "result = data.stack()\n",
    "result\n",
    "\n",
    "df = pd.DataFrame({'left': result, 'right': result + 5},\n",
    "                  columns=pd.Index(['left', 'right'], name='side'))\n",
    "df"
   ]
  },
  {
   "cell_type": "code",
   "execution_count": null,
   "metadata": {},
   "outputs": [],
   "source": [
    "## unstack/stack은 제일 안 쪽의 것부터 적용된다.\n",
    "df.unstack()"
   ]
  },
  {
   "cell_type": "code",
   "execution_count": null,
   "metadata": {},
   "outputs": [],
   "source": [
    "df.unstack('state')"
   ]
  },
  {
   "cell_type": "code",
   "execution_count": null,
   "metadata": {},
   "outputs": [],
   "source": [
    "df.unstack('state').stack('side')"
   ]
  },
  {
   "attachments": {},
   "cell_type": "markdown",
   "metadata": {},
   "source": [
    "### 8.3.2. melt vs. pivot"
   ]
  },
  {
   "attachments": {},
   "cell_type": "markdown",
   "metadata": {},
   "source": [
    "#### pivot은 테이블을 형성하고"
   ]
  },
  {
   "cell_type": "code",
   "execution_count": null,
   "metadata": {},
   "outputs": [],
   "source": [
    "data = pd.DataFrame({'cust_id': ['c1', 'c1', 'c1', 'c2', 'c2', 'c2', 'c3', 'c3', 'c3'],\n",
    "            'prod_cd': ['p1', 'p2', 'p3', 'p1', 'p2', 'p3', 'p1', 'p2', 'p3'],\n",
    "            'grade' : ['A', 'A', 'A', 'A', 'A', 'A', 'B', 'B', 'B'],\n",
    "            'pch_amt': [30, 10, 0, 40, 15, 30, 0, 0, 10]})\n",
    "\n",
    "data"
   ]
  },
  {
   "cell_type": "code",
   "execution_count": null,
   "metadata": {},
   "outputs": [],
   "source": [
    "data.pivot(index='cust_id', columns='prod_cd', values='pch_amt')"
   ]
  },
  {
   "cell_type": "code",
   "execution_count": null,
   "metadata": {},
   "outputs": [],
   "source": [
    "data.pivot(index='prod_cd', columns='cust_id', values='pch_amt')\n"
   ]
  },
  {
   "cell_type": "code",
   "execution_count": null,
   "metadata": {},
   "outputs": [],
   "source": [
    "pivoted = data.pivot(index=['cust_id','grade'], columns='prod_cd', values='pch_amt')\n",
    "pivoted"
   ]
  },
  {
   "attachments": {},
   "cell_type": "markdown",
   "metadata": {},
   "source": [
    "#### melt는 위아래로 길게 쌓는다."
   ]
  },
  {
   "cell_type": "code",
   "execution_count": null,
   "metadata": {},
   "outputs": [],
   "source": [
    "data = pd.DataFrame({'cust_id' : ['C_001', 'C_001', 'C_002', 'C_002'],\n",
    "                     'prod_cd' : ['P_001', 'P_002', 'P_001', 'P_002'],\n",
    "                     'pch_cnt' : [1, 2, 3, 4],\n",
    "                     'pch_amt' : [100, 200, 300, 400]})\n",
    "data"
   ]
  },
  {
   "cell_type": "code",
   "execution_count": null,
   "metadata": {},
   "outputs": [],
   "source": [
    "pd.melt(data, id_vars=['cust_id', 'prod_cd'])"
   ]
  }
 ],
 "metadata": {
  "kernelspec": {
   "display_name": "Python 3",
   "language": "python",
   "name": "python3"
  },
  "language_info": {
   "codemirror_mode": {
    "name": "ipython",
    "version": 3
   },
   "file_extension": ".py",
   "mimetype": "text/x-python",
   "name": "python",
   "nbconvert_exporter": "python",
   "pygments_lexer": "ipython3",
   "version": "3.11.1"
  },
  "orig_nbformat": 4
 },
 "nbformat": 4,
 "nbformat_minor": 2
}
