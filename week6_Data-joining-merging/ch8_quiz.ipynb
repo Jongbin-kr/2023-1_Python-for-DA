{
 "cells": [
  {
   "cell_type": "code",
   "execution_count": null,
   "metadata": {},
   "outputs": [],
   "source": [
    "import pandas as pd\n",
    "import numpy as np"
   ]
  },
  {
   "attachments": {},
   "cell_type": "markdown",
   "metadata": {},
   "source": [
    "#### 1. 다음 데이터프레임을 활용해 인덱스가 'b', 'x'이고 값이 11 초과인 값만 표시하시오."
   ]
  },
  {
   "cell_type": "code",
   "execution_count": null,
   "metadata": {},
   "outputs": [],
   "source": [
    "df = pd.DataFrame(np.arange(20).reshape(4,5), index = [['a','a','b','b'], ['x','y','x','y']], columns=[[100,100,200,200,200], [88,88,88,77,77]])\n",
    "df.columns.names = ['hundred', 'ten']\n",
    "\n",
    "df"
   ]
  },
  {
   "cell_type": "code",
   "execution_count": null,
   "metadata": {},
   "outputs": [],
   "source": [
    "t = df.loc['b','x']\n",
    "t[t > 11]"
   ]
  },
  {
   "attachments": {},
   "cell_type": "markdown",
   "metadata": {},
   "source": [
    "#### 2. 다음 데이터프레임의 인덱스를 b,x로 재설정하시오."
   ]
  },
  {
   "cell_type": "code",
   "execution_count": null,
   "metadata": {},
   "outputs": [],
   "source": [
    "df = pd.DataFrame({'a': np.arange(0,6),\n",
    "                  'b': np.arange(6,0,-1),\n",
    "                  'x':['x','y','x','y','x', 'x']}\n",
    "                  )\n",
    "df = df.set_index(['a','b'])\n",
    "\n",
    "df"
   ]
  },
  {
   "attachments": {},
   "cell_type": "markdown",
   "metadata": {},
   "source": [
    "#### 3. 다음 두 개 데이터프레임을 이름을 기준으로 하나로 합쳐, 인덱스가 name인 데이터프레임을 하나 생성하시오."
   ]
  },
  {
   "cell_type": "code",
   "execution_count": null,
   "metadata": {},
   "outputs": [],
   "source": [
    "df1 = pd.DataFrame({'gender':['F','F','M','F'],\n",
    "                    'score':[20,40,50,10]},\n",
    "                   index = ['jane','john','ruby','perl'])\n",
    "df1"
   ]
  },
  {
   "cell_type": "code",
   "execution_count": null,
   "metadata": {},
   "outputs": [],
   "source": [
    "df2 = pd.DataFrame({'name':['jane','john','ruby','perl'],\n",
    "                    'major':['LG', 'CS','MT','LG']},\n",
    "                   index = pd.Index([111,103,210,129], name='id'))\n",
    "\n",
    "df2"
   ]
  },
  {
   "cell_type": "code",
   "execution_count": null,
   "metadata": {},
   "outputs": [],
   "source": []
  }
 ],
 "metadata": {
  "kernelspec": {
   "display_name": "Python 3",
   "language": "python",
   "name": "python3"
  },
  "language_info": {
   "codemirror_mode": {
    "name": "ipython",
    "version": 3
   },
   "file_extension": ".py",
   "mimetype": "text/x-python",
   "name": "python",
   "nbconvert_exporter": "python",
   "pygments_lexer": "ipython3",
   "version": "3.11.1"
  },
  "orig_nbformat": 4
 },
 "nbformat": 4,
 "nbformat_minor": 2
}
