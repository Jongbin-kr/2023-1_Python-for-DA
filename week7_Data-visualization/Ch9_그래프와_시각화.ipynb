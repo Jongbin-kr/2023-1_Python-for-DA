{
 "cells": [
  {
   "cell_type": "markdown",
   "id": "b180fea5",
   "metadata": {},
   "source": [
    "## 9.1 matplotlib API 간략하게 살펴보기"
   ]
  },
  {
   "cell_type": "code",
   "execution_count": 14,
   "id": "036d6790",
   "metadata": {},
   "outputs": [],
   "source": [
    "%matplotlib notebook"
   ]
  },
  {
   "cell_type": "code",
   "execution_count": 2,
   "id": "9341a909",
   "metadata": {},
   "outputs": [],
   "source": [
    "import matplotlib.pyplot as plt\n",
    "import numpy as np\n",
    "from numpy.random import randn"
   ]
  },
  {
   "cell_type": "code",
   "execution_count": null,
   "id": "f345ace7",
   "metadata": {},
   "outputs": [],
   "source": [
    "data = np.arange(10)\n",
    "data"
   ]
  },
  {
   "cell_type": "markdown",
   "id": "116d1b1c",
   "metadata": {},
   "source": [
    "plot() 함수는 리스트의 값들이 y 값들이라고 가정하고, x 값을 자동으로 만들어낸다.\n",
    "\n",
    "plot(x, y)로 x,y 값 입력 가능"
   ]
  },
  {
   "cell_type": "code",
   "execution_count": null,
   "id": "2843a8e5",
   "metadata": {},
   "outputs": [],
   "source": [
    "plt.plot(data)"
   ]
  },
  {
   "cell_type": "markdown",
   "id": "eeac69df",
   "metadata": {},
   "source": [
    "### 9.1.1 figure와 서브플롯"
   ]
  },
  {
   "cell_type": "markdown",
   "id": "996bdd31",
   "metadata": {},
   "source": [
    "matplotlib에서 그래프는 Figure 객체 내에 존재\n",
    "\n",
    "빈 figure로는 그래프 그릴 수 없음\n",
    "\n",
    "add_subplot을 사용해서 최소 하나 이상의 subplot를 생성해야 함"
   ]
  },
  {
   "cell_type": "code",
   "execution_count": null,
   "id": "93dd4220",
   "metadata": {},
   "outputs": [],
   "source": [
    "fig = plt.figure() #새로운 figure 생성\n",
    "\n",
    "ax1 = fig.add_subplot(2, 2, 1) # 2x2(행x열) 크기, 4개의 서브플롯 중 첫번째 선택\n",
    "\n",
    "ax2 = fig.add_subplot(2, 2, 2)\n",
    "\n",
    "ax3 = fig.add_subplot(2, 2, 3)"
   ]
  },
  {
   "cell_type": "markdown",
   "id": "8fc973d2",
   "metadata": {},
   "source": [
    "그냥 plt.plot()으로 그래프를 만들면 가장 최근의 figure와 그 서브플롯을 그린다\n",
    "\n",
    "서브플롯이 없다면 서브플롯 하나를 생성한다"
   ]
  },
  {
   "cell_type": "code",
   "execution_count": null,
   "id": "de2991dd",
   "metadata": {},
   "outputs": [],
   "source": [
    "plt.plot(randn(50).cumsum(), 'k--') #'k--'' =>검은 점선\n",
    "\n",
    "fig"
   ]
  },
  {
   "cell_type": "code",
   "execution_count": null,
   "id": "6f97c6bc",
   "metadata": {},
   "outputs": [],
   "source": [
    " _ = ax1.hist(randn(100), bins=20, color='k', alpha=0.3)\n",
    "# plt.hist() 히스토그램, bins=구간의 개수, alpha=투명도\n",
    "\n",
    "#plt.scatter() 산점도 그리기\n",
    "ax2.scatter(np.arange(30), np.arange(30) + 3 * randn(30))\n",
    "\n",
    "fig"
   ]
  },
  {
   "cell_type": "code",
   "execution_count": null,
   "id": "b2eb9055",
   "metadata": {},
   "outputs": [],
   "source": [
    "fig, axes = plt.subplots(2, 3)\n",
    "\n",
    "axes"
   ]
  },
  {
   "cell_type": "markdown",
   "id": "23429671",
   "metadata": {},
   "source": [
    "pyplot.subplots 옵션\n",
    "\n",
    "nrows :      서브플롯의 로우 수\n",
    "\n",
    "ncols :      서브플롯의 컬럼 수\n",
    "\n",
    "sharex :     모든 서브플롯이 같은 x축 눈금을 사용하도록 한다\n",
    "\n",
    "sharey :     모든 서브플롯이 같은 y축 눈금을 사용하도록 한다\n",
    "\n",
    "subplot_kw : add_subplot을 사용해서 각 서브플롯을 생성할 때 사용할 키워드를 담고 있는 사전\n",
    "\n",
    "\\**fig_kw :  figure를 생성할 때 사용할 추가적인 키워드 인자. 예를 들면 plt.subplots(2, 2, figsize=(8,6)"
   ]
  },
  {
   "cell_type": "markdown",
   "id": "8ae2c014",
   "metadata": {},
   "source": [
    "#### 서브플롯 간의 간격 조절하기\n",
    "\n",
    "간격은 기본적으로 자동으로 결정된다.\n",
    "\n",
    "wspace : figure 너비 조절\n",
    "\n",
    "hspace : figure 높이 조절"
   ]
  },
  {
   "cell_type": "markdown",
   "id": "cf33ceb9",
   "metadata": {},
   "source": [
    "subplots_adjust(left=None, bottom=None, right=None, top=None,\n",
    " wspace=None, hspace=None)"
   ]
  },
  {
   "cell_type": "code",
   "execution_count": null,
   "id": "92df207e",
   "metadata": {},
   "outputs": [],
   "source": [
    "fig, axes = plt.subplots(2, 2, sharex=True, sharey=True)\n",
    "\n",
    "for i in range(2):\n",
    "    for j in range(2):\n",
    "        axes[i, j].hist(randn(500), bins=50, color='k', alpha=0.5)\n",
    "        \n",
    "plt.subplots_adjust(wspace=0, hspace=0)#서브플롯 간의 간격 없는 그래프 생성"
   ]
  },
  {
   "cell_type": "markdown",
   "id": "0c45ecf1",
   "metadata": {},
   "source": [
    "### 9.1.2 색상, 마커, 선 스타일"
   ]
  },
  {
   "cell_type": "code",
   "execution_count": null,
   "id": "51ae6f01",
   "metadata": {},
   "outputs": [],
   "source": [
    "plt.figure()\n",
    "plt.plot([1,2], [2,3], 'g--') #녹색 점선"
   ]
  },
  {
   "cell_type": "code",
   "execution_count": null,
   "id": "cd84296d",
   "metadata": {},
   "outputs": [],
   "source": [
    "plt.figure()\n",
    "plt.plot([1,2], [2,3], linestyle='--', color='g') #같은 방법"
   ]
  },
  {
   "cell_type": "code",
   "execution_count": null,
   "id": "b0f42891",
   "metadata": {},
   "outputs": [],
   "source": [
    "plt.figure()\n",
    "plt.plot(randn(30).cumsum(), 'ko--') #검은색 마커 점선 / cumsum()은 행열의 누적합"
   ]
  },
  {
   "cell_type": "code",
   "execution_count": null,
   "id": "2a76f193",
   "metadata": {},
   "outputs": [],
   "source": [
    "plt.figure()\n",
    "plt.plot(randn(30).cumsum(), color='k', linestyle='dashed', marker='o') #같음"
   ]
  },
  {
   "cell_type": "code",
   "execution_count": 13,
   "id": "21e40a8d",
   "metadata": {},
   "outputs": [],
   "source": [
    "data = randn(30).cumsum()"
   ]
  },
  {
   "cell_type": "code",
   "execution_count": null,
   "id": "bd16ffff",
   "metadata": {},
   "outputs": [],
   "source": [
    "plt.figure()\n",
    "\n",
    "plt.plot(data, 'k--')"
   ]
  },
  {
   "cell_type": "code",
   "execution_count": null,
   "id": "bef44a9a",
   "metadata": {},
   "outputs": [],
   "source": [
    "plt.figure()\n",
    "\n",
    "plt.plot(data, 'k-', drawstyle='steps-post')"
   ]
  },
  {
   "cell_type": "code",
   "execution_count": null,
   "id": "bb397839",
   "metadata": {},
   "outputs": [],
   "source": [
    "plt.figure()\n",
    "\n",
    "plt.plot(data, 'k--', label='Default')\n",
    "plt.plot(data, 'k-', drawstyle='steps-post', label='steps-post')\n",
    "plt.legend(loc='best')"
   ]
  },
  {
   "cell_type": "markdown",
   "id": "46614365",
   "metadata": {},
   "source": [
    "범례를 생성하려면 label 옵션 여부와 상관없이 반드시 plt.legend를 호출해야 한다.\n",
    "\n",
    "(축에 대한 범례를 추가하려면 ax.legend를 호출하자)"
   ]
  },
  {
   "cell_type": "markdown",
   "id": "8216f1ab",
   "metadata": {},
   "source": [
    "### 9.1.3. 눈금, 라벨, 범례\n",
    "\n",
    "그래프를 꾸미는 방법 크게 2가지\n",
    "1. pyplot 인터페이스 사용해 순차적으로 꾸미기 (matplotlib.pyplot)\n",
    "2. matplotlib이 제공하는 API 사용해 좀 더 객체지향적인 방법으로 꾸미기\n",
    "\n",
    "pyplot 인터페이스\n",
    "xlim, xticks, xticklabels 같은 메서드로 이루어짐\n",
    "\n",
    "위 모든 메서드는 현재 활성화된 혹은 가장 최근에 생성된 AxesSubplot 객체에 대해 동작함\n",
    "\n",
    "위 모든 메서드는 서브플롯 객체의 set/get 메서드로도 존재함\n",
    "예) ax.get_xlim, ax.set_xlim"
   ]
  },
  {
   "cell_type": "code",
   "execution_count": null,
   "id": "0397dac1",
   "metadata": {},
   "outputs": [],
   "source": [
    "plt.xlim([0,10]) #현재 x축의 범위를 반환"
   ]
  },
  {
   "cell_type": "markdown",
   "id": "27aed323",
   "metadata": {},
   "source": [
    "#### 제목, 축 이름, 눈금, 눈금 이름 설정하기"
   ]
  },
  {
   "cell_type": "code",
   "execution_count": null,
   "id": "f595bb1c",
   "metadata": {},
   "outputs": [],
   "source": [
    "fig = plt.figure()\n",
    "\n",
    "ax = fig.add_subplot(1, 1, 1)\n",
    "\n",
    "ax.plot(randn(1000).cumsum())"
   ]
  },
  {
   "cell_type": "code",
   "execution_count": null,
   "id": "692312e7",
   "metadata": {},
   "outputs": [],
   "source": [
    "ticks = ax.set_xticks([0, 250, 500, 750, 1000]) #눈금을 어디에 배치할지 지정\n",
    "\n",
    "labels = ax.set_xticklabels(['one', 'two', 'three', 'four', 'five'], \n",
    "                            rotation=30, fontsize='small') #다른 눈금 이름 지정\n",
    "ax.set_title('My first matplotlib plot') #서브플롯 제목 지정\n",
    "ax.set_xlabel('Stages') #x축 이름 지정\n",
    "ax.set_ylabel('Alala') #y축 이름 지정\n",
    "\n",
    "fig"
   ]
  },
  {
   "cell_type": "markdown",
   "id": "6cf08ea5",
   "metadata": {},
   "source": [
    "#### 범례 추가하기"
   ]
  },
  {
   "cell_type": "code",
   "execution_count": null,
   "id": "3af9558d",
   "metadata": {},
   "outputs": [],
   "source": [
    "fig = plt.figure(); ax = fig.add_subplot(1, 1, 1)\n",
    "\n",
    "ax.plot(randn(1000).cumsum(), 'k', label='one')\n",
    "ax.plot(randn(1000).cumsum(), 'k--', label='two')\n",
    "ax.plot(randn(1000).cumsum(), 'k.', label='_nolegend_') # 범례에 넣기 않기\n",
    "ax.legend(loc='best') #또는 plt.legend()"
   ]
  },
  {
   "cell_type": "markdown",
   "id": "801a677a",
   "metadata": {},
   "source": [
    "legend 메서드의 loc 인자는 범례 위치를 지정하기 위한 것\n",
    "\n",
    "'best' 옵션은 범례를 최대한 방해가 되지 않는 곳에 둔다."
   ]
  },
  {
   "cell_type": "markdown",
   "id": "fb227c32",
   "metadata": {},
   "source": [
    "### 9.1.4 주석과 그림 추가하기\n",
    "\n",
    "text, arrow, annotate 함수 이용\n",
    "\n",
    "text 함수는 주어진 좌표에 글자 그려줌"
   ]
  },
  {
   "cell_type": "markdown",
   "id": "25550c4b",
   "metadata": {},
   "source": [
    "ax.text(x, y, 'Hello world!',\n",
    "        family='monospace', fontsize=10)"
   ]
  },
  {
   "cell_type": "code",
   "execution_count": 24,
   "id": "e29e1f20",
   "metadata": {},
   "outputs": [],
   "source": [
    "import pandas as pd\n",
    "from datetime import datetime"
   ]
  },
  {
   "cell_type": "markdown",
   "id": "e8603f70",
   "metadata": {},
   "source": [
    "주석과 화살표 추가하기"
   ]
  },
  {
   "cell_type": "code",
   "execution_count": null,
   "id": "95764af2",
   "metadata": {},
   "outputs": [],
   "source": [
    "fig = plt.figure()\n",
    "ax = fig.add_subplot(1, 1, 1)\n",
    "\n",
    "data = pd.read_csv('./examples/spx.csv', index_col=0, parse_dates=True)\n",
    "spx = data['SPX']\n",
    "\n",
    "spx.plot(ax=ax, style='k-')\n",
    "\n",
    "crisis_data = [\n",
    "    (datetime(2007, 10, 11), 'Peak of bull market'),\n",
    "    (datetime(2008, 3, 12), 'Bear Stearns Fails'),\n",
    "    (datetime(2008, 9, 15), 'Lehman Bankruptcy')\n",
    "]\n",
    "\n",
    "for date, label in crisis_data:\n",
    "    ax.annotate(label, xy=(date, spx.asof(date) + 75),\n",
    "    xytext=(date, spx.asof(date) + 225),\n",
    "    arrowprops=dict(facecolor='black', headwidth=4, width=2, headlength=4),\n",
    "    horizontalalignment='left', verticalalignment='top')\n",
    "    #ax.annotate 메서드로 xy좌표로 지정한 위치에 라벨 추가\n",
    "    #asof()함수는 주어진 인덱스 위치에서 NaN이 없는 마지막 행 반환\n",
    "\n",
    "# 2007-2010 구간으로 확대\n",
    "ax.set_xlim(['1/1/2007', '1/1/2011'])\n",
    "ax.set_ylim([600, 1800])\n",
    "#그래프의 시작과 끝 경계 직접 지정\n",
    "\n",
    "ax.set_title('Important dates in 2008-2009 financial crisis')"
   ]
  },
  {
   "cell_type": "markdown",
   "id": "2aed40e4",
   "metadata": {},
   "source": [
    "도형 그리기\n",
    "\n",
    "patches : 일반적인 도형을 표현하기 위한 객체\n",
    "\n",
    "먼저 patches 객체인 shp 만들고 서브플롯에 ax.add_patch(shp) 호출해야 한다."
   ]
  },
  {
   "cell_type": "code",
   "execution_count": null,
   "id": "0dd970bc",
   "metadata": {},
   "outputs": [],
   "source": [
    "fig = plt.figure()\n",
    "ax = fig.add_subplot(1, 1, 1)\n",
    "\n",
    "rect = plt.Rectangle((0.2, 0.75), 0.4, 0.15, color='k', alpha=0.3)\n",
    "circ = plt.Circle((0.7, 0.2), 0.15, color='b', alpha=0.3)\n",
    "pgon = plt.Polygon([[0.15, 0.15], [0.35, 0.4], [0.2, 0.6]],\n",
    "                   color='g', alpha=0.5)\n",
    "ax.add_patch(rect)\n",
    "ax.add_patch(circ)\n",
    "ax.add_patch(pgon)"
   ]
  },
  {
   "cell_type": "markdown",
   "id": "6364bb59",
   "metadata": {},
   "source": [
    "### 9.1.5 그래프를 파일로 저장하기"
   ]
  },
  {
   "cell_type": "code",
   "execution_count": null,
   "id": "1981865c",
   "metadata": {},
   "outputs": [],
   "source": [
    "plt.savefig('figpath.svg') # 활성화된 figure 파일로 저장 가능"
   ]
  },
  {
   "cell_type": "markdown",
   "id": "de6b3fef",
   "metadata": {},
   "source": [
    "Figure.savefig 옵션\n",
    "\n",
    "dpi : figure의 인치당 도트 해상도. 기본값은 100이며, 설정가능하다\n",
    "\n",
    "facecolor, edgecolor : 서브플롯 바깥 배경 색상. 기본값은 'w'(흰색)\n",
    "\n",
    "format : 명시적인 파일 포맷 ('png','pdf','svg','ps',....)\n",
    "\n",
    "bbox_inches : figure에서 저장할 부분."
   ]
  },
  {
   "cell_type": "code",
   "execution_count": null,
   "id": "253516eb",
   "metadata": {},
   "outputs": [],
   "source": [
    "#'tight' figure 둘레의 비어있는 공간을 모두 제거\n",
    "\n",
    "plt.savefig('figpath.png', dpi=400, bbox_inches='tight')\n",
    "#그래프 간 최소 공백을 가지는 400DPI짜리 PNG파일"
   ]
  },
  {
   "cell_type": "markdown",
   "id": "585d1a44",
   "metadata": {},
   "source": [
    "BytesIO처럼 파일과 유사한 객체에 저장하는 것도 가능\n",
    "- 이미지를 읽는 객체인 것 같음"
   ]
  },
  {
   "cell_type": "code",
   "execution_count": null,
   "id": "eb5ec6a1",
   "metadata": {},
   "outputs": [],
   "source": [
    "from io import BytesIO\n",
    "\n",
    "buffer = BytesIO()\n",
    "plt.savefig(buffer)\n",
    "plot_data = buffer.getvalue()"
   ]
  },
  {
   "cell_type": "markdown",
   "id": "da0d644c",
   "metadata": {},
   "source": [
    "### 9.1.6 matplotlib 설정"
   ]
  },
  {
   "cell_type": "code",
   "execution_count": null,
   "id": "37e10fff",
   "metadata": {},
   "outputs": [],
   "source": [
    "plt.rc('figure', figsize=(10,10)) #figure 크기를 4x4로 전역 설정"
   ]
  },
  {
   "cell_type": "markdown",
   "id": "863837ee",
   "metadata": {},
   "source": [
    "'figure'외에도 'axes', 'xtick', 'ytick', 'grid', 'legend' 등 설정 가능"
   ]
  },
  {
   "cell_type": "code",
   "execution_count": null,
   "id": "8fd7a768",
   "metadata": {},
   "outputs": [],
   "source": [
    "font_options = {'family' : 'monospace',\n",
    "                'weight' : 'bold', \n",
    "                'size' : 3}\n",
    "plt.rc('font', **font_options)"
   ]
  },
  {
   "cell_type": "markdown",
   "id": "b24eb0f7",
   "metadata": {},
   "source": [
    "## 9.2 pandas에서 seaborn으로 그래프 그리기"
   ]
  },
  {
   "cell_type": "markdown",
   "id": "59b0e197",
   "metadata": {},
   "source": [
    "### 9.2.1 선그래프"
   ]
  },
  {
   "cell_type": "code",
   "execution_count": null,
   "id": "475979db",
   "metadata": {},
   "outputs": [],
   "source": [
    "plt.figure()\n",
    "s = pd.Series(randn(10).cumsum(), index=np.arange(0, 100, 10))\n",
    "s.plot() #기본적으로 선그래프 생성"
   ]
  },
  {
   "cell_type": "markdown",
   "id": "33f9a10f",
   "metadata": {},
   "source": [
    "Series 객체의 인덱스가 x축으로 해석됨.\n",
    "\n",
    "use_index=False => 인덱스를 축으로 사용하는 것 막기\n",
    "\n",
    "DataFrame의 plot 메서드 : 하나의 서브플롯 안에 각 컬럼별 선그래프를 그리고 자동 범례생성"
   ]
  },
  {
   "cell_type": "code",
   "execution_count": null,
   "id": "9dfd298c",
   "metadata": {},
   "outputs": [],
   "source": [
    "df = pd.DataFrame(np.random.randn(10, 4).cumsum(0),\n",
    "               columns=['A', 'B', 'C', 'D'],\n",
    "               index=np.arange(0, 100, 10))\n",
    "df.plot()"
   ]
  },
  {
   "cell_type": "markdown",
   "id": "2e045545",
   "metadata": {},
   "source": [
    "Series.plot 메서드 인자\n",
    "\n",
    "DataFrame의 plot 메서드 인자\n",
    "\n",
    "여러 개 있음"
   ]
  },
  {
   "cell_type": "markdown",
   "id": "83cd5ce2",
   "metadata": {},
   "source": [
    "### 9.2.2 막대그래프\n",
    "\n",
    "plot.bar() 수직막대그래프 - DataFrame 인덱스 x 눈금으로 사용\n",
    "\n",
    "plot.barh() 수평막대그래프 - DataFrame 인덱스 y 눈금으로 사용"
   ]
  },
  {
   "cell_type": "code",
   "execution_count": null,
   "id": "74913ed7",
   "metadata": {},
   "outputs": [],
   "source": [
    "fig, axes = plt.subplots(2, 1)\n",
    "\n",
    "data = pd.Series(np.random.rand(16), index=list('abcdefghijklmnop'))\n",
    "\n",
    "\n",
    "# ax: Series.plot 메서드 인자, 그래프를 그릴 matplotlib의 서브플롯 객체\n",
    "data.plot(kind='bar', ax=axes[0], color='k', alpha=0.7)\n",
    "data.plot(kind='barh', ax=axes[1], color='k', alpha=0.7)"
   ]
  },
  {
   "cell_type": "code",
   "execution_count": null,
   "id": "5a0c2a6b",
   "metadata": {},
   "outputs": [],
   "source": [
    "#각 로우의 값을 함께 묶어서 하나의 그룹마다 각각의 막대를 보여준다,\n",
    "\n",
    "df = pd.DataFrame(np.random.rand(6, 4),\n",
    "                index=['one', 'two', 'three', 'four', 'five', 'six'],\n",
    "                columns=pd.Index(['A', 'B', 'C', 'D'], name='Genus'))\n",
    "df"
   ]
  },
  {
   "cell_type": "code",
   "execution_count": null,
   "id": "6a7bae22",
   "metadata": {},
   "outputs": [],
   "source": [
    "df.plot(kind='bar') #데이터 프레임 컬럼인 Genus가 범례의 제목으로 사용됨"
   ]
  },
  {
   "cell_type": "code",
   "execution_count": null,
   "id": "0d2664b2",
   "metadata": {},
   "outputs": [],
   "source": [
    "df.plot(kind='barh', stacked=True, alpha=0.5) # 누적막대그래프"
   ]
  },
  {
   "cell_type": "code",
   "execution_count": null,
   "id": "758e3c44",
   "metadata": {},
   "outputs": [],
   "source": [
    "tips = pd.read_csv('./examples/tips.csv')\n",
    "\n",
    "party_counts = pd.crosstab(tips['day'], tips['size'])\n",
    "party_counts"
   ]
  },
  {
   "cell_type": "code",
   "execution_count": null,
   "id": "56f97ead",
   "metadata": {},
   "outputs": [],
   "source": [
    "# 1인과 6인 파티는 제외\n",
    "party_counts = party_counts.loc[:, 2:5]"
   ]
  },
  {
   "cell_type": "code",
   "execution_count": null,
   "id": "dc7b5ae5",
   "metadata": {},
   "outputs": [],
   "source": [
    "# 각 로우의 합이 1이 되도록 정규화\n",
    "party_pcts = party_counts.div(party_counts.sum(1), axis=0)\n",
    "party_pcts"
   ]
  },
  {
   "cell_type": "code",
   "execution_count": null,
   "id": "658ff392",
   "metadata": {},
   "outputs": [],
   "source": [
    "party_pcts.plot.bar()"
   ]
  },
  {
   "cell_type": "markdown",
   "id": "5188cc25",
   "metadata": {},
   "source": [
    "seaborn 패키지로 팁 데이터 다시 그리기"
   ]
  },
  {
   "cell_type": "code",
   "execution_count": null,
   "id": "48e31149",
   "metadata": {},
   "outputs": [],
   "source": [
    "import seaborn as sns\n",
    "\n",
    "tips['tip_pct'] = tips['tip'] / (tips['total_bill'] - tips['tip'])\n",
    "\n",
    "tips.head()"
   ]
  },
  {
   "cell_type": "code",
   "execution_count": null,
   "id": "ca5316c6",
   "metadata": {},
   "outputs": [],
   "source": [
    "plt.figure()\n",
    "sns.barplot(x='tip_pct', y='day', data=tips, orient='h')"
   ]
  },
  {
   "cell_type": "markdown",
   "id": "e1535e98",
   "metadata": {},
   "source": [
    "data 인자는 DataFrame을 받음.\n",
    "\n",
    "막대그래프 위의 검은 선은 95%의 신뢰구간 나타냄\n",
    "\n",
    "hue 옵션을 이용하면 추가 분류에 따라 나눠 그릴 수 있다."
   ]
  },
  {
   "cell_type": "code",
   "execution_count": null,
   "id": "f0cea80a",
   "metadata": {},
   "outputs": [],
   "source": [
    "sns.barplot(x='tip_pct', y='day', hue='time', data=tips, orient='h')"
   ]
  },
  {
   "cell_type": "code",
   "execution_count": null,
   "id": "5d9e0dee",
   "metadata": {},
   "outputs": [],
   "source": [
    "sns.set(style='whitegrid') #set으로 자동으로 정해진 꾸밈새 변경"
   ]
  },
  {
   "cell_type": "markdown",
   "id": "136d425b",
   "metadata": {},
   "source": [
    "### 9.2.3 히스토그램과 밀도 그래프"
   ]
  },
  {
   "cell_type": "code",
   "execution_count": null,
   "id": "c3a065da",
   "metadata": {},
   "outputs": [],
   "source": [
    "plt.figure()\n",
    "tips['tip_pct'].plot.hist(bins=50) #히스토그램"
   ]
  },
  {
   "cell_type": "code",
   "execution_count": null,
   "id": "e7ae3317",
   "metadata": {},
   "outputs": [],
   "source": [
    "plt.figure()\n",
    "tips['tip_pct'].plot.density() #밀도 그래프\n",
    "#tips['tip_pct'].plot.kde() 같은 것 같음"
   ]
  },
  {
   "cell_type": "code",
   "execution_count": null,
   "id": "39366dab",
   "metadata": {},
   "outputs": [],
   "source": [
    "plt.figure()\n",
    "comp1 = np.random.normal(0, 1, size=200) # N(0, 1)\n",
    "comp2 = np.random.normal(10, 2, size=200) # N(10, 4)\n",
    "values = pd.Series(np.concatenate([comp1, comp2]))\n",
    "sns.distplot(values, bins=100, color='k')"
   ]
  },
  {
   "cell_type": "markdown",
   "id": "6b74501f",
   "metadata": {},
   "source": [
    "### 9.2.4 산포도"
   ]
  },
  {
   "cell_type": "code",
   "execution_count": null,
   "id": "fbeb8a82",
   "metadata": {},
   "outputs": [],
   "source": [
    "macro = pd.read_csv('./examples/macrodata.csv')\n",
    "data = macro[['cpi', 'm1', 'tbilrate', 'unemp']]\n",
    "trans_data = np.log(data).diff().dropna()\n",
    "trans_data[-5:]"
   ]
  },
  {
   "cell_type": "markdown",
   "id": "3031b441",
   "metadata": {},
   "source": [
    "regplot 메서드로 산포도와 선형회귀곡선 함께 그리기"
   ]
  },
  {
   "cell_type": "code",
   "execution_count": null,
   "id": "a82db81c",
   "metadata": {},
   "outputs": [],
   "source": [
    "plt.figure()\n",
    "sns.regplot('m1', 'unemp', data=trans_data) \n",
    "plt.title('Changes in log %s vs. log %s' % ('m1', 'unemp'))"
   ]
  },
  {
   "cell_type": "markdown",
   "id": "d7a782a7",
   "metadata": {},
   "source": [
    "산포도 행렬, 대각선을 따라 각 변수에 대한 히스토그램이나 밀도 그래프도 생성"
   ]
  },
  {
   "cell_type": "code",
   "execution_count": null,
   "id": "64a117e0",
   "metadata": {},
   "outputs": [],
   "source": [
    "sns.pairplot(trans_data, diag_kind='kde', plot_kws={'alpha': 0.2})"
   ]
  },
  {
   "cell_type": "markdown",
   "id": "ede65fc8",
   "metadata": {},
   "source": [
    "plot_kws 인자는 각각의 그래프에 전달할 개별 설정값을 지정함"
   ]
  },
  {
   "cell_type": "markdown",
   "id": "e595b6cd",
   "metadata": {},
   "source": [
    "### 9.2.5 패싯 그리드와 범주형 데이터"
   ]
  },
  {
   "cell_type": "markdown",
   "id": "4fc307e2",
   "metadata": {},
   "source": [
    "패싯 그리드는 추가적인 그룹 차원을 가지는 데이터 시각화하는 한가지 방법"
   ]
  },
  {
   "cell_type": "code",
   "execution_count": null,
   "id": "289079b9",
   "metadata": {},
   "outputs": [],
   "source": [
    "#요일/시간/흡연 여부에 따른 팁 비율\n",
    "sns.factorplot(x='day', y='tip_pct', hue='time', col='smoker', \n",
    "               kind='bar', data=tips[tips.tip_pct < 1])"
   ]
  },
  {
   "cell_type": "code",
   "execution_count": null,
   "id": "161502ef",
   "metadata": {},
   "outputs": [],
   "source": [
    "sns.factorplot(x='day', y='tip_pct', row='time', col='smoker', \n",
    "               kind='bar', data=tips[tips.tip_pct < 1]) \n",
    "#time으로 그룹 만드는 대신 패싯 안에서 막대 색상 달리에서 보여줄 수 있음.\n",
    "#패싯 그리드에 time 값에 따른 그래프 추가 가능"
   ]
  },
  {
   "cell_type": "code",
   "execution_count": null,
   "id": "e9487611",
   "metadata": {},
   "outputs": [],
   "source": [
    "#중간값과 사분위 특잇값 보여주는 상자그림\n",
    "sns.factorplot(x='tip_pct', y='day', kind='box', data=tips[tips.tip_pct < 0.5])"
   ]
  }
 ],
 "metadata": {
  "kernelspec": {
   "display_name": "Python 3 (ipykernel)",
   "language": "python",
   "name": "python3"
  },
  "language_info": {
   "codemirror_mode": {
    "name": "ipython",
    "version": 3
   },
   "file_extension": ".py",
   "mimetype": "text/x-python",
   "name": "python",
   "nbconvert_exporter": "python",
   "pygments_lexer": "ipython3",
   "version": "3.9.13"
  }
 },
 "nbformat": 4,
 "nbformat_minor": 5
}
