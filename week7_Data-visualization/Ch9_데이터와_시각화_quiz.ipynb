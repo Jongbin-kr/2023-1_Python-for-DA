{
 "cells": [
  {
   "cell_type": "code",
   "execution_count": null,
   "id": "22c43431",
   "metadata": {},
   "outputs": [],
   "source": [
    "import matplotlib.pyplot as plt\n",
    "import numpy as np\n",
    "from numpy.random import randn\n",
    "import pandas as pd"
   ]
  },
  {
   "cell_type": "markdown",
   "id": "9ceb2b25",
   "metadata": {},
   "source": [
    "#### 1. 새로운 figure를 생성하고 4(2x2)개의 subplot를 생성한 뒤 3번째 서브플롯에 검은 점선의 직선 그래프를 그려주세요."
   ]
  },
  {
   "cell_type": "code",
   "execution_count": null,
   "id": "0abb21c4",
   "metadata": {},
   "outputs": [],
   "source": []
  },
  {
   "cell_type": "markdown",
   "id": "be10c868",
   "metadata": {},
   "source": [
    "#### 2. 위 그래프의 제일 왼쪽 x값 위치와 오른쪽 x값 위치에 화살표와 함께 '시작', '끝'이라는 주석을 추가해 주세요"
   ]
  },
  {
   "cell_type": "code",
   "execution_count": null,
   "id": "42b8c75e",
   "metadata": {},
   "outputs": [],
   "source": []
  },
  {
   "cell_type": "markdown",
   "id": "a3548fa7",
   "metadata": {},
   "source": [
    "#### 3. randn를 활용해 만든 Series로 파란색, 투명도 0.5의 수직막대그래프를 만들어주세요."
   ]
  },
  {
   "cell_type": "code",
   "execution_count": null,
   "id": "2bc68cf2",
   "metadata": {},
   "outputs": [],
   "source": []
  },
  {
   "cell_type": "markdown",
   "id": "5c85b874",
   "metadata": {},
   "source": [
    "#### 4. './examples/macrodata.csv' 파일에서 'm1' 컬럼과 'unemp' 컬럼의 데이터를 활용해 산포도를 그려주세요."
   ]
  },
  {
   "cell_type": "code",
   "execution_count": null,
   "id": "c22e932d",
   "metadata": {},
   "outputs": [],
   "source": []
  }
 ],
 "metadata": {
  "kernelspec": {
   "display_name": "Python 3 (ipykernel)",
   "language": "python",
   "name": "python3"
  },
  "language_info": {
   "codemirror_mode": {
    "name": "ipython",
    "version": 3
   },
   "file_extension": ".py",
   "mimetype": "text/x-python",
   "name": "python",
   "nbconvert_exporter": "python",
   "pygments_lexer": "ipython3",
   "version": "3.9.13"
  }
 },
 "nbformat": 4,
 "nbformat_minor": 5
}
